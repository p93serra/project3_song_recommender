{
 "cells": [
  {
   "cell_type": "code",
   "execution_count": 1,
   "metadata": {},
   "outputs": [],
   "source": [
    "import pandas as pd"
   ]
  },
  {
   "cell_type": "code",
   "execution_count": 210,
   "metadata": {},
   "outputs": [],
   "source": [
    "songs_all = pd.read_csv(\"../data/songs_all.csv\")"
   ]
  },
  {
   "cell_type": "code",
   "execution_count": 211,
   "metadata": {},
   "outputs": [
    {
     "data": {
      "text/plain": [
       "2440"
      ]
     },
     "execution_count": 211,
     "metadata": {},
     "output_type": "execute_result"
    }
   ],
   "source": [
    "len(songs_all)"
   ]
  },
  {
   "cell_type": "code",
   "execution_count": 22,
   "metadata": {},
   "outputs": [],
   "source": [
    "songs_all[\"artist_1\"] = songs_all[\"artist\"].apply(lambda x: str(x[0]))"
   ]
  },
  {
   "cell_type": "code",
   "execution_count": 25,
   "metadata": {},
   "outputs": [],
   "source": [
    "songs_all[\"artist_1\"] = songs_all[\"artist\"].apply(lambda x: str(x.strip('][').split(',')[0]))\n"
   ]
  },
  {
   "cell_type": "code",
   "execution_count": 28,
   "metadata": {},
   "outputs": [],
   "source": [
    "songs_all[\"artist_2\"] = songs_all[\"artist\"].apply(lambda x: str(x.strip('][').split(',')[1]) if len(x.strip('][').split(',')) > 1 else None)"
   ]
  },
  {
   "cell_type": "code",
   "execution_count": 4,
   "metadata": {},
   "outputs": [
    {
     "data": {
      "text/plain": [
       "Index(['name', 'artist_1', 'artist_2', 'uri', 'duration_ms', 'danceability',\n",
       "       'energy', 'key', 'loudness', 'mode', 'speechiness', 'acousticness',\n",
       "       'instrumentalness', 'liveness', 'valence', 'tempo'],\n",
       "      dtype='object')"
      ]
     },
     "execution_count": 4,
     "metadata": {},
     "output_type": "execute_result"
    }
   ],
   "source": [
    "songs_all.columns"
   ]
  },
  {
   "cell_type": "code",
   "execution_count": 212,
   "metadata": {},
   "outputs": [],
   "source": [
    "songs_all = songs_all[['name', 'artist_1', 'artist_2', 'uri', 'duration_ms', 'danceability', 'energy', 'key', 'loudness', 'mode', 'speechiness', 'acousticness', 'instrumentalness', 'liveness', 'valence', 'tempo']]"
   ]
  },
  {
   "cell_type": "code",
   "execution_count": 34,
   "metadata": {},
   "outputs": [],
   "source": [
    "songs_all.to_csv(\"../data/songs_all_10000.csv\", index=False)"
   ]
  },
  {
   "cell_type": "code",
   "execution_count": 87,
   "metadata": {},
   "outputs": [
    {
     "data": {
      "text/html": [
       "<div>\n",
       "<style scoped>\n",
       "    .dataframe tbody tr th:only-of-type {\n",
       "        vertical-align: middle;\n",
       "    }\n",
       "\n",
       "    .dataframe tbody tr th {\n",
       "        vertical-align: top;\n",
       "    }\n",
       "\n",
       "    .dataframe thead th {\n",
       "        text-align: right;\n",
       "    }\n",
       "</style>\n",
       "<table border=\"1\" class=\"dataframe\">\n",
       "  <thead>\n",
       "    <tr style=\"text-align: right;\">\n",
       "      <th></th>\n",
       "      <th>name</th>\n",
       "      <th>artist_1</th>\n",
       "      <th>artist_2</th>\n",
       "      <th>uri</th>\n",
       "      <th>duration_ms</th>\n",
       "      <th>danceability</th>\n",
       "      <th>energy</th>\n",
       "      <th>key</th>\n",
       "      <th>loudness</th>\n",
       "      <th>mode</th>\n",
       "      <th>speechiness</th>\n",
       "      <th>acousticness</th>\n",
       "      <th>instrumentalness</th>\n",
       "      <th>liveness</th>\n",
       "      <th>valence</th>\n",
       "      <th>tempo</th>\n",
       "    </tr>\n",
       "  </thead>\n",
       "  <tbody>\n",
       "    <tr>\n",
       "      <th>0</th>\n",
       "      <td>All Night Long (All Night) - Recorded at Spoti...</td>\n",
       "      <td>Benjamin Ingrosso</td>\n",
       "      <td>NaN</td>\n",
       "      <td>spotify:track:1I7arMzqZe0nxd9TfkG0Dt</td>\n",
       "      <td>188166</td>\n",
       "      <td>0.649</td>\n",
       "      <td>0.718</td>\n",
       "      <td>8</td>\n",
       "      <td>-7.101</td>\n",
       "      <td>0</td>\n",
       "      <td>0.0506</td>\n",
       "      <td>0.0106</td>\n",
       "      <td>0.000198</td>\n",
       "      <td>0.1170</td>\n",
       "      <td>0.715</td>\n",
       "      <td>112.049</td>\n",
       "    </tr>\n",
       "    <tr>\n",
       "      <th>1</th>\n",
       "      <td>Dancing in the Moonlight (feat. NEIMY)</td>\n",
       "      <td>Jubël</td>\n",
       "      <td>NEIMY</td>\n",
       "      <td>spotify:track:5ow0sNF1zSqp71Ix5jEXWU</td>\n",
       "      <td>164010</td>\n",
       "      <td>0.659</td>\n",
       "      <td>0.617</td>\n",
       "      <td>11</td>\n",
       "      <td>-5.862</td>\n",
       "      <td>0</td>\n",
       "      <td>0.0649</td>\n",
       "      <td>0.2700</td>\n",
       "      <td>0.000000</td>\n",
       "      <td>0.1870</td>\n",
       "      <td>0.187</td>\n",
       "      <td>119.858</td>\n",
       "    </tr>\n",
       "    <tr>\n",
       "      <th>2</th>\n",
       "      <td>Dust</td>\n",
       "      <td>Matt Simons</td>\n",
       "      <td>Betty Who</td>\n",
       "      <td>spotify:track:0gp6wPoPamLLwYup5Rimba</td>\n",
       "      <td>198480</td>\n",
       "      <td>0.659</td>\n",
       "      <td>0.588</td>\n",
       "      <td>1</td>\n",
       "      <td>-9.905</td>\n",
       "      <td>1</td>\n",
       "      <td>0.0469</td>\n",
       "      <td>0.1510</td>\n",
       "      <td>0.000231</td>\n",
       "      <td>0.0918</td>\n",
       "      <td>0.574</td>\n",
       "      <td>92.037</td>\n",
       "    </tr>\n",
       "    <tr>\n",
       "      <th>3</th>\n",
       "      <td>H.O.L.Y.</td>\n",
       "      <td>Alle Farben</td>\n",
       "      <td>RHODES</td>\n",
       "      <td>spotify:track:61A5grQZlbqoCxVUWLI19v</td>\n",
       "      <td>174507</td>\n",
       "      <td>0.565</td>\n",
       "      <td>0.653</td>\n",
       "      <td>0</td>\n",
       "      <td>-5.846</td>\n",
       "      <td>0</td>\n",
       "      <td>0.0626</td>\n",
       "      <td>0.1950</td>\n",
       "      <td>0.000000</td>\n",
       "      <td>0.1910</td>\n",
       "      <td>0.471</td>\n",
       "      <td>100.051</td>\n",
       "    </tr>\n",
       "    <tr>\n",
       "      <th>4</th>\n",
       "      <td>Only Love</td>\n",
       "      <td>Deepend</td>\n",
       "      <td>NaN</td>\n",
       "      <td>spotify:track:7DSBxP0sGTuEb249LMJSLY</td>\n",
       "      <td>172222</td>\n",
       "      <td>0.647</td>\n",
       "      <td>0.810</td>\n",
       "      <td>2</td>\n",
       "      <td>-5.804</td>\n",
       "      <td>1</td>\n",
       "      <td>0.0521</td>\n",
       "      <td>0.0658</td>\n",
       "      <td>0.002360</td>\n",
       "      <td>0.2370</td>\n",
       "      <td>0.648</td>\n",
       "      <td>108.011</td>\n",
       "    </tr>\n",
       "  </tbody>\n",
       "</table>\n",
       "</div>"
      ],
      "text/plain": [
       "                                                name           artist_1  \\\n",
       "0  All Night Long (All Night) - Recorded at Spoti...  Benjamin Ingrosso   \n",
       "1             Dancing in the Moonlight (feat. NEIMY)              Jubël   \n",
       "2                                               Dust        Matt Simons   \n",
       "3                                           H.O.L.Y.        Alle Farben   \n",
       "4                                          Only Love            Deepend   \n",
       "\n",
       "    artist_2                                   uri  duration_ms  danceability  \\\n",
       "0        NaN  spotify:track:1I7arMzqZe0nxd9TfkG0Dt       188166         0.649   \n",
       "1      NEIMY  spotify:track:5ow0sNF1zSqp71Ix5jEXWU       164010         0.659   \n",
       "2  Betty Who  spotify:track:0gp6wPoPamLLwYup5Rimba       198480         0.659   \n",
       "3     RHODES  spotify:track:61A5grQZlbqoCxVUWLI19v       174507         0.565   \n",
       "4        NaN  spotify:track:7DSBxP0sGTuEb249LMJSLY       172222         0.647   \n",
       "\n",
       "   energy  key  loudness  mode  speechiness  acousticness  instrumentalness  \\\n",
       "0   0.718    8    -7.101     0       0.0506        0.0106          0.000198   \n",
       "1   0.617   11    -5.862     0       0.0649        0.2700          0.000000   \n",
       "2   0.588    1    -9.905     1       0.0469        0.1510          0.000231   \n",
       "3   0.653    0    -5.846     0       0.0626        0.1950          0.000000   \n",
       "4   0.810    2    -5.804     1       0.0521        0.0658          0.002360   \n",
       "\n",
       "   liveness  valence    tempo  \n",
       "0    0.1170    0.715  112.049  \n",
       "1    0.1870    0.187  119.858  \n",
       "2    0.0918    0.574   92.037  \n",
       "3    0.1910    0.471  100.051  \n",
       "4    0.2370    0.648  108.011  "
      ]
     },
     "execution_count": 87,
     "metadata": {},
     "output_type": "execute_result"
    }
   ],
   "source": [
    "songs_all.head()"
   ]
  },
  {
   "cell_type": "code",
   "execution_count": 213,
   "metadata": {},
   "outputs": [],
   "source": [
    "audio_features = songs_all[['danceability', 'energy', 'acousticness', 'instrumentalness', 'valence']]"
   ]
  },
  {
   "cell_type": "code",
   "execution_count": 91,
   "metadata": {},
   "outputs": [
    {
     "data": {
      "text/html": [
       "<div>\n",
       "<style scoped>\n",
       "    .dataframe tbody tr th:only-of-type {\n",
       "        vertical-align: middle;\n",
       "    }\n",
       "\n",
       "    .dataframe tbody tr th {\n",
       "        vertical-align: top;\n",
       "    }\n",
       "\n",
       "    .dataframe thead th {\n",
       "        text-align: right;\n",
       "    }\n",
       "</style>\n",
       "<table border=\"1\" class=\"dataframe\">\n",
       "  <thead>\n",
       "    <tr style=\"text-align: right;\">\n",
       "      <th></th>\n",
       "      <th>danceability</th>\n",
       "      <th>energy</th>\n",
       "      <th>speechiness</th>\n",
       "      <th>acousticness</th>\n",
       "      <th>instrumentalness</th>\n",
       "      <th>liveness</th>\n",
       "    </tr>\n",
       "  </thead>\n",
       "  <tbody>\n",
       "    <tr>\n",
       "      <th>0</th>\n",
       "      <td>0.649</td>\n",
       "      <td>0.718</td>\n",
       "      <td>0.0506</td>\n",
       "      <td>0.0106</td>\n",
       "      <td>0.000198</td>\n",
       "      <td>0.1170</td>\n",
       "    </tr>\n",
       "    <tr>\n",
       "      <th>1</th>\n",
       "      <td>0.659</td>\n",
       "      <td>0.617</td>\n",
       "      <td>0.0649</td>\n",
       "      <td>0.2700</td>\n",
       "      <td>0.000000</td>\n",
       "      <td>0.1870</td>\n",
       "    </tr>\n",
       "    <tr>\n",
       "      <th>2</th>\n",
       "      <td>0.659</td>\n",
       "      <td>0.588</td>\n",
       "      <td>0.0469</td>\n",
       "      <td>0.1510</td>\n",
       "      <td>0.000231</td>\n",
       "      <td>0.0918</td>\n",
       "    </tr>\n",
       "    <tr>\n",
       "      <th>3</th>\n",
       "      <td>0.565</td>\n",
       "      <td>0.653</td>\n",
       "      <td>0.0626</td>\n",
       "      <td>0.1950</td>\n",
       "      <td>0.000000</td>\n",
       "      <td>0.1910</td>\n",
       "    </tr>\n",
       "    <tr>\n",
       "      <th>4</th>\n",
       "      <td>0.647</td>\n",
       "      <td>0.810</td>\n",
       "      <td>0.0521</td>\n",
       "      <td>0.0658</td>\n",
       "      <td>0.002360</td>\n",
       "      <td>0.2370</td>\n",
       "    </tr>\n",
       "  </tbody>\n",
       "</table>\n",
       "</div>"
      ],
      "text/plain": [
       "   danceability  energy  speechiness  acousticness  instrumentalness  liveness\n",
       "0         0.649   0.718       0.0506        0.0106          0.000198    0.1170\n",
       "1         0.659   0.617       0.0649        0.2700          0.000000    0.1870\n",
       "2         0.659   0.588       0.0469        0.1510          0.000231    0.0918\n",
       "3         0.565   0.653       0.0626        0.1950          0.000000    0.1910\n",
       "4         0.647   0.810       0.0521        0.0658          0.002360    0.2370"
      ]
     },
     "execution_count": 91,
     "metadata": {},
     "output_type": "execute_result"
    }
   ],
   "source": [
    "audio_features.head()"
   ]
  },
  {
   "cell_type": "code",
   "execution_count": 7,
   "metadata": {},
   "outputs": [],
   "source": [
    "from sklearn.preprocessing import StandardScaler"
   ]
  },
  {
   "cell_type": "code",
   "execution_count": 214,
   "metadata": {},
   "outputs": [],
   "source": [
    "scaler = StandardScaler()"
   ]
  },
  {
   "cell_type": "code",
   "execution_count": 215,
   "metadata": {},
   "outputs": [],
   "source": [
    "audio_features_scaled = scaler.fit_transform(audio_features)"
   ]
  },
  {
   "cell_type": "code",
   "execution_count": 216,
   "metadata": {},
   "outputs": [],
   "source": [
    "df_audio_features_scaled = pd.DataFrame(audio_features_scaled, columns=audio_features.columns)"
   ]
  },
  {
   "cell_type": "code",
   "execution_count": 217,
   "metadata": {},
   "outputs": [
    {
     "data": {
      "text/html": [
       "<div>\n",
       "<style scoped>\n",
       "    .dataframe tbody tr th:only-of-type {\n",
       "        vertical-align: middle;\n",
       "    }\n",
       "\n",
       "    .dataframe tbody tr th {\n",
       "        vertical-align: top;\n",
       "    }\n",
       "\n",
       "    .dataframe thead th {\n",
       "        text-align: right;\n",
       "    }\n",
       "</style>\n",
       "<table border=\"1\" class=\"dataframe\">\n",
       "  <thead>\n",
       "    <tr style=\"text-align: right;\">\n",
       "      <th></th>\n",
       "      <th>danceability</th>\n",
       "      <th>energy</th>\n",
       "      <th>acousticness</th>\n",
       "      <th>instrumentalness</th>\n",
       "      <th>valence</th>\n",
       "    </tr>\n",
       "  </thead>\n",
       "  <tbody>\n",
       "    <tr>\n",
       "      <th>0</th>\n",
       "      <td>0.582443</td>\n",
       "      <td>0.653472</td>\n",
       "      <td>-1.062885</td>\n",
       "      <td>-0.618928</td>\n",
       "      <td>1.037422</td>\n",
       "    </tr>\n",
       "    <tr>\n",
       "      <th>1</th>\n",
       "      <td>0.630174</td>\n",
       "      <td>0.311861</td>\n",
       "      <td>-0.366455</td>\n",
       "      <td>-0.619460</td>\n",
       "      <td>-0.871490</td>\n",
       "    </tr>\n",
       "    <tr>\n",
       "      <th>2</th>\n",
       "      <td>0.630174</td>\n",
       "      <td>0.213774</td>\n",
       "      <td>-0.685943</td>\n",
       "      <td>-0.618839</td>\n",
       "      <td>0.527655</td>\n",
       "    </tr>\n",
       "    <tr>\n",
       "      <th>3</th>\n",
       "      <td>0.181503</td>\n",
       "      <td>0.433623</td>\n",
       "      <td>-0.567813</td>\n",
       "      <td>-0.619460</td>\n",
       "      <td>0.155273</td>\n",
       "    </tr>\n",
       "    <tr>\n",
       "      <th>4</th>\n",
       "      <td>0.572897</td>\n",
       "      <td>0.964642</td>\n",
       "      <td>-0.914686</td>\n",
       "      <td>-0.613108</td>\n",
       "      <td>0.795192</td>\n",
       "    </tr>\n",
       "  </tbody>\n",
       "</table>\n",
       "</div>"
      ],
      "text/plain": [
       "   danceability    energy  acousticness  instrumentalness   valence\n",
       "0      0.582443  0.653472     -1.062885         -0.618928  1.037422\n",
       "1      0.630174  0.311861     -0.366455         -0.619460 -0.871490\n",
       "2      0.630174  0.213774     -0.685943         -0.618839  0.527655\n",
       "3      0.181503  0.433623     -0.567813         -0.619460  0.155273\n",
       "4      0.572897  0.964642     -0.914686         -0.613108  0.795192"
      ]
     },
     "execution_count": 217,
     "metadata": {},
     "output_type": "execute_result"
    }
   ],
   "source": [
    "df_audio_features_scaled.head()"
   ]
  },
  {
   "cell_type": "code",
   "execution_count": 12,
   "metadata": {},
   "outputs": [],
   "source": [
    "from sklearn.cluster import KMeans"
   ]
  },
  {
   "cell_type": "code",
   "execution_count": 233,
   "metadata": {},
   "outputs": [],
   "source": [
    "my_kmeans = KMeans(n_clusters=5, random_state=1234)"
   ]
  },
  {
   "cell_type": "code",
   "execution_count": 234,
   "metadata": {},
   "outputs": [
    {
     "data": {
      "text/plain": [
       "KMeans(n_clusters=5, random_state=1234)"
      ]
     },
     "execution_count": 234,
     "metadata": {},
     "output_type": "execute_result"
    }
   ],
   "source": [
    "my_kmeans.fit(audio_features_scaled)"
   ]
  },
  {
   "cell_type": "code",
   "execution_count": 235,
   "metadata": {},
   "outputs": [],
   "source": [
    "clusters = my_kmeans.predict(audio_features_scaled)"
   ]
  },
  {
   "cell_type": "code",
   "execution_count": 236,
   "metadata": {},
   "outputs": [],
   "source": [
    "ser_clusters = pd.Series(clusters)"
   ]
  },
  {
   "cell_type": "code",
   "execution_count": 237,
   "metadata": {},
   "outputs": [
    {
     "data": {
      "text/plain": [
       "2    765\n",
       "0    682\n",
       "1    549\n",
       "3    354\n",
       "4     90\n",
       "dtype: int64"
      ]
     },
     "execution_count": 237,
     "metadata": {},
     "output_type": "execute_result"
    }
   ],
   "source": [
    "ser_clusters.value_counts()"
   ]
  },
  {
   "cell_type": "code",
   "execution_count": 238,
   "metadata": {},
   "outputs": [],
   "source": [
    "songs_all[\"cluster\"] = clusters"
   ]
  },
  {
   "cell_type": "code",
   "execution_count": 131,
   "metadata": {},
   "outputs": [
    {
     "data": {
      "text/html": [
       "<div>\n",
       "<style scoped>\n",
       "    .dataframe tbody tr th:only-of-type {\n",
       "        vertical-align: middle;\n",
       "    }\n",
       "\n",
       "    .dataframe tbody tr th {\n",
       "        vertical-align: top;\n",
       "    }\n",
       "\n",
       "    .dataframe thead th {\n",
       "        text-align: right;\n",
       "    }\n",
       "</style>\n",
       "<table border=\"1\" class=\"dataframe\">\n",
       "  <thead>\n",
       "    <tr style=\"text-align: right;\">\n",
       "      <th></th>\n",
       "      <th>name</th>\n",
       "      <th>artist_1</th>\n",
       "      <th>artist_2</th>\n",
       "      <th>uri</th>\n",
       "      <th>duration_ms</th>\n",
       "      <th>danceability</th>\n",
       "      <th>energy</th>\n",
       "      <th>key</th>\n",
       "      <th>loudness</th>\n",
       "      <th>mode</th>\n",
       "      <th>speechiness</th>\n",
       "      <th>acousticness</th>\n",
       "      <th>instrumentalness</th>\n",
       "      <th>liveness</th>\n",
       "      <th>valence</th>\n",
       "      <th>tempo</th>\n",
       "      <th>cluster</th>\n",
       "    </tr>\n",
       "  </thead>\n",
       "  <tbody>\n",
       "    <tr>\n",
       "      <th>0</th>\n",
       "      <td>All Night Long (All Night) - Recorded at Spoti...</td>\n",
       "      <td>Benjamin Ingrosso</td>\n",
       "      <td>NaN</td>\n",
       "      <td>spotify:track:1I7arMzqZe0nxd9TfkG0Dt</td>\n",
       "      <td>188166</td>\n",
       "      <td>0.649</td>\n",
       "      <td>0.718</td>\n",
       "      <td>8</td>\n",
       "      <td>-7.101</td>\n",
       "      <td>0</td>\n",
       "      <td>0.0506</td>\n",
       "      <td>0.0106</td>\n",
       "      <td>0.000198</td>\n",
       "      <td>0.1170</td>\n",
       "      <td>0.715</td>\n",
       "      <td>112.049</td>\n",
       "      <td>4</td>\n",
       "    </tr>\n",
       "    <tr>\n",
       "      <th>1</th>\n",
       "      <td>Dancing in the Moonlight (feat. NEIMY)</td>\n",
       "      <td>Jubël</td>\n",
       "      <td>NEIMY</td>\n",
       "      <td>spotify:track:5ow0sNF1zSqp71Ix5jEXWU</td>\n",
       "      <td>164010</td>\n",
       "      <td>0.659</td>\n",
       "      <td>0.617</td>\n",
       "      <td>11</td>\n",
       "      <td>-5.862</td>\n",
       "      <td>0</td>\n",
       "      <td>0.0649</td>\n",
       "      <td>0.2700</td>\n",
       "      <td>0.000000</td>\n",
       "      <td>0.1870</td>\n",
       "      <td>0.187</td>\n",
       "      <td>119.858</td>\n",
       "      <td>4</td>\n",
       "    </tr>\n",
       "    <tr>\n",
       "      <th>2</th>\n",
       "      <td>Dust</td>\n",
       "      <td>Matt Simons</td>\n",
       "      <td>Betty Who</td>\n",
       "      <td>spotify:track:0gp6wPoPamLLwYup5Rimba</td>\n",
       "      <td>198480</td>\n",
       "      <td>0.659</td>\n",
       "      <td>0.588</td>\n",
       "      <td>1</td>\n",
       "      <td>-9.905</td>\n",
       "      <td>1</td>\n",
       "      <td>0.0469</td>\n",
       "      <td>0.1510</td>\n",
       "      <td>0.000231</td>\n",
       "      <td>0.0918</td>\n",
       "      <td>0.574</td>\n",
       "      <td>92.037</td>\n",
       "      <td>4</td>\n",
       "    </tr>\n",
       "    <tr>\n",
       "      <th>3</th>\n",
       "      <td>H.O.L.Y.</td>\n",
       "      <td>Alle Farben</td>\n",
       "      <td>RHODES</td>\n",
       "      <td>spotify:track:61A5grQZlbqoCxVUWLI19v</td>\n",
       "      <td>174507</td>\n",
       "      <td>0.565</td>\n",
       "      <td>0.653</td>\n",
       "      <td>0</td>\n",
       "      <td>-5.846</td>\n",
       "      <td>0</td>\n",
       "      <td>0.0626</td>\n",
       "      <td>0.1950</td>\n",
       "      <td>0.000000</td>\n",
       "      <td>0.1910</td>\n",
       "      <td>0.471</td>\n",
       "      <td>100.051</td>\n",
       "      <td>4</td>\n",
       "    </tr>\n",
       "    <tr>\n",
       "      <th>4</th>\n",
       "      <td>Only Love</td>\n",
       "      <td>Deepend</td>\n",
       "      <td>NaN</td>\n",
       "      <td>spotify:track:7DSBxP0sGTuEb249LMJSLY</td>\n",
       "      <td>172222</td>\n",
       "      <td>0.647</td>\n",
       "      <td>0.810</td>\n",
       "      <td>2</td>\n",
       "      <td>-5.804</td>\n",
       "      <td>1</td>\n",
       "      <td>0.0521</td>\n",
       "      <td>0.0658</td>\n",
       "      <td>0.002360</td>\n",
       "      <td>0.2370</td>\n",
       "      <td>0.648</td>\n",
       "      <td>108.011</td>\n",
       "      <td>1</td>\n",
       "    </tr>\n",
       "  </tbody>\n",
       "</table>\n",
       "</div>"
      ],
      "text/plain": [
       "                                                name           artist_1  \\\n",
       "0  All Night Long (All Night) - Recorded at Spoti...  Benjamin Ingrosso   \n",
       "1             Dancing in the Moonlight (feat. NEIMY)              Jubël   \n",
       "2                                               Dust        Matt Simons   \n",
       "3                                           H.O.L.Y.        Alle Farben   \n",
       "4                                          Only Love            Deepend   \n",
       "\n",
       "    artist_2                                   uri  duration_ms  danceability  \\\n",
       "0        NaN  spotify:track:1I7arMzqZe0nxd9TfkG0Dt       188166         0.649   \n",
       "1      NEIMY  spotify:track:5ow0sNF1zSqp71Ix5jEXWU       164010         0.659   \n",
       "2  Betty Who  spotify:track:0gp6wPoPamLLwYup5Rimba       198480         0.659   \n",
       "3     RHODES  spotify:track:61A5grQZlbqoCxVUWLI19v       174507         0.565   \n",
       "4        NaN  spotify:track:7DSBxP0sGTuEb249LMJSLY       172222         0.647   \n",
       "\n",
       "   energy  key  loudness  mode  speechiness  acousticness  instrumentalness  \\\n",
       "0   0.718    8    -7.101     0       0.0506        0.0106          0.000198   \n",
       "1   0.617   11    -5.862     0       0.0649        0.2700          0.000000   \n",
       "2   0.588    1    -9.905     1       0.0469        0.1510          0.000231   \n",
       "3   0.653    0    -5.846     0       0.0626        0.1950          0.000000   \n",
       "4   0.810    2    -5.804     1       0.0521        0.0658          0.002360   \n",
       "\n",
       "   liveness  valence    tempo  cluster  \n",
       "0    0.1170    0.715  112.049        4  \n",
       "1    0.1870    0.187  119.858        4  \n",
       "2    0.0918    0.574   92.037        4  \n",
       "3    0.1910    0.471  100.051        4  \n",
       "4    0.2370    0.648  108.011        1  "
      ]
     },
     "execution_count": 131,
     "metadata": {},
     "output_type": "execute_result"
    }
   ],
   "source": [
    "songs_all.head()"
   ]
  },
  {
   "cell_type": "code",
   "execution_count": 132,
   "metadata": {},
   "outputs": [
    {
     "data": {
      "text/html": [
       "<div>\n",
       "<style scoped>\n",
       "    .dataframe tbody tr th:only-of-type {\n",
       "        vertical-align: middle;\n",
       "    }\n",
       "\n",
       "    .dataframe tbody tr th {\n",
       "        vertical-align: top;\n",
       "    }\n",
       "\n",
       "    .dataframe thead th {\n",
       "        text-align: right;\n",
       "    }\n",
       "</style>\n",
       "<table border=\"1\" class=\"dataframe\">\n",
       "  <thead>\n",
       "    <tr style=\"text-align: right;\">\n",
       "      <th></th>\n",
       "      <th>duration_ms</th>\n",
       "      <th>danceability</th>\n",
       "      <th>energy</th>\n",
       "      <th>key</th>\n",
       "      <th>loudness</th>\n",
       "      <th>mode</th>\n",
       "      <th>speechiness</th>\n",
       "      <th>acousticness</th>\n",
       "      <th>instrumentalness</th>\n",
       "      <th>liveness</th>\n",
       "      <th>valence</th>\n",
       "      <th>tempo</th>\n",
       "    </tr>\n",
       "    <tr>\n",
       "      <th>cluster</th>\n",
       "      <th></th>\n",
       "      <th></th>\n",
       "      <th></th>\n",
       "      <th></th>\n",
       "      <th></th>\n",
       "      <th></th>\n",
       "      <th></th>\n",
       "      <th></th>\n",
       "      <th></th>\n",
       "      <th></th>\n",
       "      <th></th>\n",
       "      <th></th>\n",
       "    </tr>\n",
       "  </thead>\n",
       "  <tbody>\n",
       "    <tr>\n",
       "      <th>0</th>\n",
       "      <td>246371.128571</td>\n",
       "      <td>0.562471</td>\n",
       "      <td>0.682404</td>\n",
       "      <td>4.985714</td>\n",
       "      <td>-7.607657</td>\n",
       "      <td>0.614286</td>\n",
       "      <td>0.067587</td>\n",
       "      <td>0.263186</td>\n",
       "      <td>0.155866</td>\n",
       "      <td>0.695814</td>\n",
       "      <td>0.468130</td>\n",
       "      <td>121.700829</td>\n",
       "    </tr>\n",
       "    <tr>\n",
       "      <th>1</th>\n",
       "      <td>220423.340206</td>\n",
       "      <td>0.627595</td>\n",
       "      <td>0.755918</td>\n",
       "      <td>5.175258</td>\n",
       "      <td>-6.455096</td>\n",
       "      <td>0.659794</td>\n",
       "      <td>0.054384</td>\n",
       "      <td>0.141476</td>\n",
       "      <td>0.081048</td>\n",
       "      <td>0.323997</td>\n",
       "      <td>0.579477</td>\n",
       "      <td>121.817330</td>\n",
       "    </tr>\n",
       "    <tr>\n",
       "      <th>2</th>\n",
       "      <td>284628.513761</td>\n",
       "      <td>0.239694</td>\n",
       "      <td>0.097733</td>\n",
       "      <td>4.744954</td>\n",
       "      <td>-23.975077</td>\n",
       "      <td>0.686239</td>\n",
       "      <td>0.040740</td>\n",
       "      <td>0.919488</td>\n",
       "      <td>0.856749</td>\n",
       "      <td>0.114177</td>\n",
       "      <td>0.112116</td>\n",
       "      <td>98.371512</td>\n",
       "    </tr>\n",
       "    <tr>\n",
       "      <th>3</th>\n",
       "      <td>211677.627907</td>\n",
       "      <td>0.705384</td>\n",
       "      <td>0.713529</td>\n",
       "      <td>5.261628</td>\n",
       "      <td>-6.080494</td>\n",
       "      <td>0.622093</td>\n",
       "      <td>0.145701</td>\n",
       "      <td>0.178900</td>\n",
       "      <td>0.037192</td>\n",
       "      <td>0.129320</td>\n",
       "      <td>0.590924</td>\n",
       "      <td>121.609384</td>\n",
       "    </tr>\n",
       "    <tr>\n",
       "      <th>4</th>\n",
       "      <td>230275.154095</td>\n",
       "      <td>0.635194</td>\n",
       "      <td>0.710824</td>\n",
       "      <td>5.136853</td>\n",
       "      <td>-6.652876</td>\n",
       "      <td>0.692888</td>\n",
       "      <td>0.045620</td>\n",
       "      <td>0.136241</td>\n",
       "      <td>0.047868</td>\n",
       "      <td>0.109547</td>\n",
       "      <td>0.550950</td>\n",
       "      <td>121.738930</td>\n",
       "    </tr>\n",
       "    <tr>\n",
       "      <th>5</th>\n",
       "      <td>207839.239130</td>\n",
       "      <td>0.658826</td>\n",
       "      <td>0.669848</td>\n",
       "      <td>5.260870</td>\n",
       "      <td>-7.029804</td>\n",
       "      <td>0.673913</td>\n",
       "      <td>0.325804</td>\n",
       "      <td>0.289296</td>\n",
       "      <td>0.035005</td>\n",
       "      <td>0.183715</td>\n",
       "      <td>0.534370</td>\n",
       "      <td>124.794826</td>\n",
       "    </tr>\n",
       "    <tr>\n",
       "      <th>6</th>\n",
       "      <td>246580.492268</td>\n",
       "      <td>0.495072</td>\n",
       "      <td>0.377093</td>\n",
       "      <td>4.860825</td>\n",
       "      <td>-10.571621</td>\n",
       "      <td>0.840206</td>\n",
       "      <td>0.039880</td>\n",
       "      <td>0.671705</td>\n",
       "      <td>0.019860</td>\n",
       "      <td>0.133070</td>\n",
       "      <td>0.372280</td>\n",
       "      <td>119.570080</td>\n",
       "    </tr>\n",
       "  </tbody>\n",
       "</table>\n",
       "</div>"
      ],
      "text/plain": [
       "           duration_ms  danceability    energy       key   loudness      mode  \\\n",
       "cluster                                                                         \n",
       "0        246371.128571      0.562471  0.682404  4.985714  -7.607657  0.614286   \n",
       "1        220423.340206      0.627595  0.755918  5.175258  -6.455096  0.659794   \n",
       "2        284628.513761      0.239694  0.097733  4.744954 -23.975077  0.686239   \n",
       "3        211677.627907      0.705384  0.713529  5.261628  -6.080494  0.622093   \n",
       "4        230275.154095      0.635194  0.710824  5.136853  -6.652876  0.692888   \n",
       "5        207839.239130      0.658826  0.669848  5.260870  -7.029804  0.673913   \n",
       "6        246580.492268      0.495072  0.377093  4.860825 -10.571621  0.840206   \n",
       "\n",
       "         speechiness  acousticness  instrumentalness  liveness   valence  \\\n",
       "cluster                                                                    \n",
       "0           0.067587      0.263186          0.155866  0.695814  0.468130   \n",
       "1           0.054384      0.141476          0.081048  0.323997  0.579477   \n",
       "2           0.040740      0.919488          0.856749  0.114177  0.112116   \n",
       "3           0.145701      0.178900          0.037192  0.129320  0.590924   \n",
       "4           0.045620      0.136241          0.047868  0.109547  0.550950   \n",
       "5           0.325804      0.289296          0.035005  0.183715  0.534370   \n",
       "6           0.039880      0.671705          0.019860  0.133070  0.372280   \n",
       "\n",
       "              tempo  \n",
       "cluster              \n",
       "0        121.700829  \n",
       "1        121.817330  \n",
       "2         98.371512  \n",
       "3        121.609384  \n",
       "4        121.738930  \n",
       "5        124.794826  \n",
       "6        119.570080  "
      ]
     },
     "execution_count": 132,
     "metadata": {},
     "output_type": "execute_result"
    }
   ],
   "source": [
    "songs_all.groupby([\"cluster\"]).mean()"
   ]
  },
  {
   "cell_type": "code",
   "execution_count": 133,
   "metadata": {},
   "outputs": [
    {
     "data": {
      "text/plain": [
       "3419.0300324981713"
      ]
     },
     "execution_count": 133,
     "metadata": {},
     "output_type": "execute_result"
    }
   ],
   "source": [
    "my_kmeans.inertia_"
   ]
  },
  {
   "cell_type": "code",
   "execution_count": 224,
   "metadata": {},
   "outputs": [
    {
     "name": "stdout",
     "output_type": "stream",
     "text": [
      "2  -->  4784.221294642041\n",
      "3  -->  3572.2792754706816\n",
      "4  -->  2828.410466064967\n",
      "5  -->  2565.6559300531744\n",
      "6  -->  2366.5455731616958\n",
      "7  -->  2129.0219017143486\n",
      "8  -->  1978.5808095606833\n",
      "9  -->  1835.7385421778217\n",
      "10  -->  1729.596699539187\n",
      "11  -->  1638.091771873091\n",
      "12  -->  1565.1977010310595\n",
      "13  -->  1509.0410012050513\n",
      "14  -->  1460.2407423357365\n",
      "15  -->  1411.874751532943\n",
      "16  -->  1360.5495444960359\n",
      "17  -->  1314.8216640381345\n",
      "18  -->  1280.0471752119338\n",
      "19  -->  1236.7915902926184\n"
     ]
    }
   ],
   "source": [
    "# Try to run Kmeans with all values of K, from 2 to 20\n",
    "K = range(2, 20)\n",
    "\n",
    "# For each model, store the inertia in a list\n",
    "inertia = []\n",
    "for k in K:\n",
    "    my_kmeans_2 = KMeans(n_clusters=k, random_state=1234)\n",
    "    my_kmeans_2.fit(audio_features_scaled)\n",
    "    inertia.append(my_kmeans_2.inertia_)\n",
    "    print(str(k), \" --> \", str(my_kmeans_2.inertia_))"
   ]
  },
  {
   "cell_type": "code",
   "execution_count": 225,
   "metadata": {},
   "outputs": [
    {
     "data": {
      "text/plain": [
       "Text(0.5, 1.0, 'Elbow Method showing the optimal k')"
      ]
     },
     "execution_count": 225,
     "metadata": {},
     "output_type": "execute_result"
    },
    {
     "data": {
      "image/png": "[encoded data removed]",
      "text/plain": [
       "<Figure size 1152x576 with 1 Axes>"
      ]
     },
     "metadata": {
      "needs_background": "light"
     },
     "output_type": "display_data"
    }
   ],
   "source": [
    "# Plot the results\n",
    "import matplotlib.pyplot as plt\n",
    "import numpy as np\n",
    "%matplotlib inline\n",
    "\n",
    "plt.figure(figsize=(16,8))\n",
    "plt.plot(K, inertia, 'bx-')\n",
    "plt.xlabel('k')\n",
    "plt.ylabel('inertia')\n",
    "plt.xticks(np.arange(min(K), max(K)+1, 1.0))\n",
    "plt.title('Elbow Method showing the optimal k')"
   ]
  },
  {
   "cell_type": "code",
   "execution_count": 226,
   "metadata": {},
   "outputs": [
    {
     "name": "stdout",
     "output_type": "stream",
     "text": [
      "2  -->  0.5578852024464002\n",
      "3  -->  0.38331076397490565\n",
      "4  -->  0.356865360462187\n",
      "5  -->  0.366394587861656\n",
      "6  -->  0.31930770634486005\n",
      "7  -->  0.32415173683711773\n",
      "8  -->  0.3162425518947683\n",
      "9  -->  0.26195579268769076\n",
      "10  -->  0.2615642904384614\n",
      "11  -->  0.2590483612565826\n",
      "12  -->  0.24604314965094645\n",
      "13  -->  0.24446778301206679\n",
      "14  -->  0.23886706088019588\n",
      "15  -->  0.21749691237322674\n",
      "16  -->  0.22031399121520986\n",
      "17  -->  0.22504881149920944\n",
      "18  -->  0.22282145284936136\n",
      "19  -->  0.22647861108672665\n"
     ]
    }
   ],
   "source": [
    "from sklearn.metrics import silhouette_score\n",
    "\n",
    "# repeat the same process, now with the silhouette score\n",
    "K = range(2, 20)\n",
    "silhouette = []\n",
    "for k in K:\n",
    "    my_kmeans_2 = KMeans(n_clusters=k, random_state=1234)\n",
    "    clusters = my_kmeans_2.fit_predict(audio_features_scaled)\n",
    "    silhouette_avg = silhouette_score(audio_features_scaled, clusters)\n",
    "    silhouette.append(silhouette_avg)\n",
    "    print(str(k), \" --> \", str(silhouette_avg))"
   ]
  },
  {
   "cell_type": "code",
   "execution_count": 227,
   "metadata": {},
   "outputs": [
    {
     "data": {
      "text/plain": [
       "Text(0.5, 1.0, 'Elbow Method showing the optimal k')"
      ]
     },
     "execution_count": 227,
     "metadata": {},
     "output_type": "execute_result"
    },
    {
     "data": {
      "image/png": "[encoded data removed]",
      "text/plain": [
       "<Figure size 1152x576 with 1 Axes>"
      ]
     },
     "metadata": {
      "needs_background": "light"
     },
     "output_type": "display_data"
    }
   ],
   "source": [
    "# plot\n",
    "plt.figure(figsize=(16,8))\n",
    "plt.plot(K, silhouette, 'bx-')\n",
    "plt.xlabel('k')\n",
    "plt.ylabel('silhouette score')\n",
    "plt.xticks(np.arange(min(K), max(K)+1, 1.0))\n",
    "plt.title('Elbow Method showing the optimal k')"
   ]
  },
  {
   "cell_type": "code",
   "execution_count": 109,
   "metadata": {},
   "outputs": [],
   "source": [
    "from sklearn.cluster import DBSCAN\n",
    "from sklearn import metrics\n",
    "from sklearn.datasets import make_blobs\n",
    "from sklearn.preprocessing import StandardScaler"
   ]
  },
  {
   "cell_type": "code",
   "execution_count": 229,
   "metadata": {},
   "outputs": [],
   "source": [
    "db = DBSCAN(eps=0.6, min_samples=10).fit(audio_features_scaled)"
   ]
  },
  {
   "cell_type": "code",
   "execution_count": 230,
   "metadata": {},
   "outputs": [],
   "source": [
    "core_samples_mask = np.zeros_like(db.labels_, dtype=bool)\n",
    "core_samples_mask[db.core_sample_indices_] = True\n",
    "labels = db.labels_"
   ]
  },
  {
   "cell_type": "code",
   "execution_count": 231,
   "metadata": {},
   "outputs": [
    {
     "name": "stdout",
     "output_type": "stream",
     "text": [
      "Estimated number of clusters: 1\n",
      "Estimated number of noise points: 202\n",
      "Silhouette Coefficient: 0.093\n"
     ]
    }
   ],
   "source": [
    "# Number of clusters in labels, ignoring noise if present.\n",
    "n_clusters_ = len(set(labels)) - (1 if -1 in labels else 0)\n",
    "n_noise_ = list(labels).count(-1)\n",
    "\n",
    "print('Estimated number of clusters: %d' % n_clusters_)\n",
    "print('Estimated number of noise points: %d' % n_noise_)\n",
    "print(\"Silhouette Coefficient: %0.3f\"\n",
    "      % metrics.silhouette_score(audio_features_scaled, labels))"
   ]
  },
  {
   "cell_type": "code",
   "execution_count": 113,
   "metadata": {},
   "outputs": [],
   "source": [
    "from numpy import arange"
   ]
  },
  {
   "cell_type": "code",
   "execution_count": 232,
   "metadata": {},
   "outputs": [
    {
     "name": "stdout",
     "output_type": "stream",
     "text": [
      "0.3  -->  -0.07039138033836201\n",
      "0.4  -->  -0.035746169123813024\n",
      "0.5  -->  0.049666941726040297\n",
      "0.6000000000000001  -->  0.09321237144514607\n",
      "0.7000000000000002  -->  0.04698467024078914\n",
      "0.8000000000000003  -->  0.1036243310337064\n",
      "0.9000000000000001  -->  0.11935202267304248\n",
      "1.0000000000000002  -->  0.0886701877111927\n",
      "1.1000000000000003  -->  0.08459935114210482\n",
      "1.2000000000000004  -->  0.12059139082849069\n",
      "1.3000000000000005  -->  0.032706478709709115\n"
     ]
    },
    {
     "ename": "ValueError",
     "evalue": "Number of labels is 1. Valid values are 2 to n_samples - 1 (inclusive)",
     "output_type": "error",
     "traceback": [
      "\u001b[0;31m---------------------------------------------------------------------------\u001b[0m",
      "\u001b[0;31mValueError\u001b[0m                                Traceback (most recent call last)",
      "\u001b[0;32m<ipython-input-232-de8ca682f80c>\u001b[0m in \u001b[0;36m<module>\u001b[0;34m\u001b[0m\n\u001b[1;32m      4\u001b[0m     \u001b[0mdb\u001b[0m \u001b[0;34m=\u001b[0m \u001b[0mDBSCAN\u001b[0m\u001b[0;34m(\u001b[0m\u001b[0meps\u001b[0m\u001b[0;34m=\u001b[0m\u001b[0mk\u001b[0m\u001b[0;34m,\u001b[0m \u001b[0mmin_samples\u001b[0m\u001b[0;34m=\u001b[0m\u001b[0;36m10\u001b[0m\u001b[0;34m)\u001b[0m\u001b[0;34m.\u001b[0m\u001b[0mfit\u001b[0m\u001b[0;34m(\u001b[0m\u001b[0maudio_features_scaled\u001b[0m\u001b[0;34m)\u001b[0m\u001b[0;34m\u001b[0m\u001b[0;34m\u001b[0m\u001b[0m\n\u001b[1;32m      5\u001b[0m     \u001b[0mlabels\u001b[0m \u001b[0;34m=\u001b[0m \u001b[0mdb\u001b[0m\u001b[0;34m.\u001b[0m\u001b[0mlabels_\u001b[0m\u001b[0;34m\u001b[0m\u001b[0;34m\u001b[0m\u001b[0m\n\u001b[0;32m----> 6\u001b[0;31m     \u001b[0msilhouette_avg\u001b[0m \u001b[0;34m=\u001b[0m \u001b[0mmetrics\u001b[0m\u001b[0;34m.\u001b[0m\u001b[0msilhouette_score\u001b[0m\u001b[0;34m(\u001b[0m\u001b[0maudio_features_scaled\u001b[0m\u001b[0;34m,\u001b[0m \u001b[0mlabels\u001b[0m\u001b[0;34m)\u001b[0m\u001b[0;34m\u001b[0m\u001b[0;34m\u001b[0m\u001b[0m\n\u001b[0m\u001b[1;32m      7\u001b[0m     \u001b[0msilhouette\u001b[0m\u001b[0;34m.\u001b[0m\u001b[0mappend\u001b[0m\u001b[0;34m(\u001b[0m\u001b[0msilhouette_avg\u001b[0m\u001b[0;34m)\u001b[0m\u001b[0;34m\u001b[0m\u001b[0;34m\u001b[0m\u001b[0m\n\u001b[1;32m      8\u001b[0m     \u001b[0mprint\u001b[0m\u001b[0;34m(\u001b[0m\u001b[0mstr\u001b[0m\u001b[0;34m(\u001b[0m\u001b[0mk\u001b[0m\u001b[0;34m)\u001b[0m\u001b[0;34m,\u001b[0m \u001b[0;34m\" --> \"\u001b[0m\u001b[0;34m,\u001b[0m \u001b[0mstr\u001b[0m\u001b[0;34m(\u001b[0m\u001b[0msilhouette_avg\u001b[0m\u001b[0;34m)\u001b[0m\u001b[0;34m)\u001b[0m\u001b[0;34m\u001b[0m\u001b[0;34m\u001b[0m\u001b[0m\n",
      "\u001b[0;32m/usr/local/lib/python3.9/site-packages/sklearn/utils/validation.py\u001b[0m in \u001b[0;36minner_f\u001b[0;34m(*args, **kwargs)\u001b[0m\n\u001b[1;32m     61\u001b[0m             \u001b[0mextra_args\u001b[0m \u001b[0;34m=\u001b[0m \u001b[0mlen\u001b[0m\u001b[0;34m(\u001b[0m\u001b[0margs\u001b[0m\u001b[0;34m)\u001b[0m \u001b[0;34m-\u001b[0m \u001b[0mlen\u001b[0m\u001b[0;34m(\u001b[0m\u001b[0mall_args\u001b[0m\u001b[0;34m)\u001b[0m\u001b[0;34m\u001b[0m\u001b[0;34m\u001b[0m\u001b[0m\n\u001b[1;32m     62\u001b[0m             \u001b[0;32mif\u001b[0m \u001b[0mextra_args\u001b[0m \u001b[0;34m<=\u001b[0m \u001b[0;36m0\u001b[0m\u001b[0;34m:\u001b[0m\u001b[0;34m\u001b[0m\u001b[0;34m\u001b[0m\u001b[0m\n\u001b[0;32m---> 63\u001b[0;31m                 \u001b[0;32mreturn\u001b[0m \u001b[0mf\u001b[0m\u001b[0;34m(\u001b[0m\u001b[0;34m*\u001b[0m\u001b[0margs\u001b[0m\u001b[0;34m,\u001b[0m \u001b[0;34m**\u001b[0m\u001b[0mkwargs\u001b[0m\u001b[0;34m)\u001b[0m\u001b[0;34m\u001b[0m\u001b[0;34m\u001b[0m\u001b[0m\n\u001b[0m\u001b[1;32m     64\u001b[0m \u001b[0;34m\u001b[0m\u001b[0m\n\u001b[1;32m     65\u001b[0m             \u001b[0;31m# extra_args > 0\u001b[0m\u001b[0;34m\u001b[0m\u001b[0;34m\u001b[0m\u001b[0;34m\u001b[0m\u001b[0m\n",
      "\u001b[0;32m/usr/local/lib/python3.9/site-packages/sklearn/metrics/cluster/_unsupervised.py\u001b[0m in \u001b[0;36msilhouette_score\u001b[0;34m(X, labels, metric, sample_size, random_state, **kwds)\u001b[0m\n\u001b[1;32m    115\u001b[0m         \u001b[0;32melse\u001b[0m\u001b[0;34m:\u001b[0m\u001b[0;34m\u001b[0m\u001b[0;34m\u001b[0m\u001b[0m\n\u001b[1;32m    116\u001b[0m             \u001b[0mX\u001b[0m\u001b[0;34m,\u001b[0m \u001b[0mlabels\u001b[0m \u001b[0;34m=\u001b[0m \u001b[0mX\u001b[0m\u001b[0;34m[\u001b[0m\u001b[0mindices\u001b[0m\u001b[0;34m]\u001b[0m\u001b[0;34m,\u001b[0m \u001b[0mlabels\u001b[0m\u001b[0;34m[\u001b[0m\u001b[0mindices\u001b[0m\u001b[0;34m]\u001b[0m\u001b[0;34m\u001b[0m\u001b[0;34m\u001b[0m\u001b[0m\n\u001b[0;32m--> 117\u001b[0;31m     \u001b[0;32mreturn\u001b[0m \u001b[0mnp\u001b[0m\u001b[0;34m.\u001b[0m\u001b[0mmean\u001b[0m\u001b[0;34m(\u001b[0m\u001b[0msilhouette_samples\u001b[0m\u001b[0;34m(\u001b[0m\u001b[0mX\u001b[0m\u001b[0;34m,\u001b[0m \u001b[0mlabels\u001b[0m\u001b[0;34m,\u001b[0m \u001b[0mmetric\u001b[0m\u001b[0;34m=\u001b[0m\u001b[0mmetric\u001b[0m\u001b[0;34m,\u001b[0m \u001b[0;34m**\u001b[0m\u001b[0mkwds\u001b[0m\u001b[0;34m)\u001b[0m\u001b[0;34m)\u001b[0m\u001b[0;34m\u001b[0m\u001b[0;34m\u001b[0m\u001b[0m\n\u001b[0m\u001b[1;32m    118\u001b[0m \u001b[0;34m\u001b[0m\u001b[0m\n\u001b[1;32m    119\u001b[0m \u001b[0;34m\u001b[0m\u001b[0m\n",
      "\u001b[0;32m/usr/local/lib/python3.9/site-packages/sklearn/utils/validation.py\u001b[0m in \u001b[0;36minner_f\u001b[0;34m(*args, **kwargs)\u001b[0m\n\u001b[1;32m     61\u001b[0m             \u001b[0mextra_args\u001b[0m \u001b[0;34m=\u001b[0m \u001b[0mlen\u001b[0m\u001b[0;34m(\u001b[0m\u001b[0margs\u001b[0m\u001b[0;34m)\u001b[0m \u001b[0;34m-\u001b[0m \u001b[0mlen\u001b[0m\u001b[0;34m(\u001b[0m\u001b[0mall_args\u001b[0m\u001b[0;34m)\u001b[0m\u001b[0;34m\u001b[0m\u001b[0;34m\u001b[0m\u001b[0m\n\u001b[1;32m     62\u001b[0m             \u001b[0;32mif\u001b[0m \u001b[0mextra_args\u001b[0m \u001b[0;34m<=\u001b[0m \u001b[0;36m0\u001b[0m\u001b[0;34m:\u001b[0m\u001b[0;34m\u001b[0m\u001b[0;34m\u001b[0m\u001b[0m\n\u001b[0;32m---> 63\u001b[0;31m                 \u001b[0;32mreturn\u001b[0m \u001b[0mf\u001b[0m\u001b[0;34m(\u001b[0m\u001b[0;34m*\u001b[0m\u001b[0margs\u001b[0m\u001b[0;34m,\u001b[0m \u001b[0;34m**\u001b[0m\u001b[0mkwargs\u001b[0m\u001b[0;34m)\u001b[0m\u001b[0;34m\u001b[0m\u001b[0;34m\u001b[0m\u001b[0m\n\u001b[0m\u001b[1;32m     64\u001b[0m \u001b[0;34m\u001b[0m\u001b[0m\n\u001b[1;32m     65\u001b[0m             \u001b[0;31m# extra_args > 0\u001b[0m\u001b[0;34m\u001b[0m\u001b[0;34m\u001b[0m\u001b[0;34m\u001b[0m\u001b[0m\n",
      "\u001b[0;32m/usr/local/lib/python3.9/site-packages/sklearn/metrics/cluster/_unsupervised.py\u001b[0m in \u001b[0;36msilhouette_samples\u001b[0;34m(X, labels, metric, **kwds)\u001b[0m\n\u001b[1;32m    227\u001b[0m     \u001b[0mn_samples\u001b[0m \u001b[0;34m=\u001b[0m \u001b[0mlen\u001b[0m\u001b[0;34m(\u001b[0m\u001b[0mlabels\u001b[0m\u001b[0;34m)\u001b[0m\u001b[0;34m\u001b[0m\u001b[0;34m\u001b[0m\u001b[0m\n\u001b[1;32m    228\u001b[0m     \u001b[0mlabel_freqs\u001b[0m \u001b[0;34m=\u001b[0m \u001b[0mnp\u001b[0m\u001b[0;34m.\u001b[0m\u001b[0mbincount\u001b[0m\u001b[0;34m(\u001b[0m\u001b[0mlabels\u001b[0m\u001b[0;34m)\u001b[0m\u001b[0;34m\u001b[0m\u001b[0;34m\u001b[0m\u001b[0m\n\u001b[0;32m--> 229\u001b[0;31m     \u001b[0mcheck_number_of_labels\u001b[0m\u001b[0;34m(\u001b[0m\u001b[0mlen\u001b[0m\u001b[0;34m(\u001b[0m\u001b[0mle\u001b[0m\u001b[0;34m.\u001b[0m\u001b[0mclasses_\u001b[0m\u001b[0;34m)\u001b[0m\u001b[0;34m,\u001b[0m \u001b[0mn_samples\u001b[0m\u001b[0;34m)\u001b[0m\u001b[0;34m\u001b[0m\u001b[0;34m\u001b[0m\u001b[0m\n\u001b[0m\u001b[1;32m    230\u001b[0m \u001b[0;34m\u001b[0m\u001b[0m\n\u001b[1;32m    231\u001b[0m     \u001b[0mkwds\u001b[0m\u001b[0;34m[\u001b[0m\u001b[0;34m'metric'\u001b[0m\u001b[0;34m]\u001b[0m \u001b[0;34m=\u001b[0m \u001b[0mmetric\u001b[0m\u001b[0;34m\u001b[0m\u001b[0;34m\u001b[0m\u001b[0m\n",
      "\u001b[0;32m/usr/local/lib/python3.9/site-packages/sklearn/metrics/cluster/_unsupervised.py\u001b[0m in \u001b[0;36mcheck_number_of_labels\u001b[0;34m(n_labels, n_samples)\u001b[0m\n\u001b[1;32m     32\u001b[0m     \"\"\"\n\u001b[1;32m     33\u001b[0m     \u001b[0;32mif\u001b[0m \u001b[0;32mnot\u001b[0m \u001b[0;36m1\u001b[0m \u001b[0;34m<\u001b[0m \u001b[0mn_labels\u001b[0m \u001b[0;34m<\u001b[0m \u001b[0mn_samples\u001b[0m\u001b[0;34m:\u001b[0m\u001b[0;34m\u001b[0m\u001b[0;34m\u001b[0m\u001b[0m\n\u001b[0;32m---> 34\u001b[0;31m         raise ValueError(\"Number of labels is %d. Valid values are 2 \"\n\u001b[0m\u001b[1;32m     35\u001b[0m                          \"to n_samples - 1 (inclusive)\" % n_labels)\n\u001b[1;32m     36\u001b[0m \u001b[0;34m\u001b[0m\u001b[0m\n",
      "\u001b[0;31mValueError\u001b[0m: Number of labels is 1. Valid values are 2 to n_samples - 1 (inclusive)"
     ]
    }
   ],
   "source": [
    "K = arange(0.3, 2.0, 0.1000)\n",
    "silhouette = []\n",
    "for k in K:\n",
    "    db = DBSCAN(eps=k, min_samples=10).fit(audio_features_scaled)\n",
    "    labels = db.labels_\n",
    "    silhouette_avg = metrics.silhouette_score(audio_features_scaled, labels)\n",
    "    silhouette.append(silhouette_avg)\n",
    "    print(str(k), \" --> \", str(silhouette_avg))"
   ]
  },
  {
   "cell_type": "code",
   "execution_count": 115,
   "metadata": {},
   "outputs": [
    {
     "data": {
      "text/plain": [
       "Text(0.5, 1.0, 'Elbow Method showing the optimal k')"
      ]
     },
     "execution_count": 115,
     "metadata": {},
     "output_type": "execute_result"
    },
    {
     "data": {
      "image/png": "[encoded data removed]",
      "text/plain": [
       "<Figure size 1152x576 with 1 Axes>"
      ]
     },
     "metadata": {
      "needs_background": "light"
     },
     "output_type": "display_data"
    }
   ],
   "source": [
    "plt.figure(figsize=(16,8))\n",
    "plt.plot(K, silhouette, 'bx-')\n",
    "plt.xlabel('k')\n",
    "plt.ylabel('silhouette score')\n",
    "plt.xticks(np.arange(min(K), max(K)+1, 1.0))\n",
    "plt.title('Elbow Method showing the optimal k')"
   ]
  },
  {
   "cell_type": "code",
   "execution_count": 134,
   "metadata": {},
   "outputs": [],
   "source": [
    "import spotipy # install if needed\n",
    "from spotipy.oauth2 import SpotifyClientCredentials\n",
    "import webbrowser\n",
    "import numpy as np"
   ]
  },
  {
   "cell_type": "code",
   "execution_count": 135,
   "metadata": {},
   "outputs": [],
   "source": [
    "sp = spotipy.Spotify(auth_manager=SpotifyClientCredentials(\n",
    "    client_id=\"af9ddcc5c792418e989d0746d5f123ea\",\n",
    "    client_secret=\"042754efae2146c8adcd80bf6811c3f0\"))"
   ]
  },
  {
   "cell_type": "code",
   "execution_count": 136,
   "metadata": {},
   "outputs": [],
   "source": [
    "def get_all_song():\n",
    "    user_input = input(\"Song: \")\n",
    "    results = sp.search(user_input, limit=1)\n",
    "    for i in range(len(results[\"tracks\"][\"items\"][0][\"artists\"])):\n",
    "        print(\"Artist:\",results[\"tracks\"][\"items\"][0][\"artists\"][i][\"name\"])\n",
    "    url = results[\"tracks\"][\"items\"][0][\"external_urls\"][\"spotify\"]\n",
    "    print(\"URL:\", url)\n",
    "    #webbrowser.open(url)"
   ]
  },
  {
   "cell_type": "code",
   "execution_count": 137,
   "metadata": {},
   "outputs": [
    {
     "name": "stdout",
     "output_type": "stream",
     "text": [
      "Song: Mamma Mia\n",
      "Artist: ABBA\n",
      "URL: https://open.spotify.com/track/4wCpXupYoAJHsPwnc546ZJ\n"
     ]
    }
   ],
   "source": [
    "get_all_song()"
   ]
  },
  {
   "cell_type": "code",
   "execution_count": 152,
   "metadata": {},
   "outputs": [],
   "source": [
    "song_a_f = sp.audio_features(\"https://open.spotify.com/track/4wCpXupYoAJHsPwnc546ZJ\")[0].values()"
   ]
  },
  {
   "cell_type": "code",
   "execution_count": 139,
   "metadata": {},
   "outputs": [],
   "source": [
    "keys = ['danceability', 'energy', 'key', 'loudness', 'mode', 'speechiness',\n",
    "            'acousticness', 'instrumentalness', 'liveness', 'valence', 'tempo',\n",
    "            'type', 'id', 'uri', 'track_href', 'analysis_url', 'duration_ms',\n",
    "            'time_signature']\n",
    "\n",
    "list_a_f = list(song_a_f)"
   ]
  },
  {
   "cell_type": "code",
   "execution_count": 140,
   "metadata": {},
   "outputs": [],
   "source": [
    "keys_ = ['danceability', 'energy', 'speechiness', 'acousticness', 'instrumentalness', 'liveness']"
   ]
  },
  {
   "cell_type": "code",
   "execution_count": 141,
   "metadata": {},
   "outputs": [],
   "source": [
    "df_a_f = pd.DataFrame(columns=keys)\n",
    "\n",
    "df_a_f.loc[0] = list_a_f"
   ]
  },
  {
   "cell_type": "code",
   "execution_count": 142,
   "metadata": {},
   "outputs": [],
   "source": [
    "df_a_f_ = df_a_f[keys_]"
   ]
  },
  {
   "cell_type": "code",
   "execution_count": 143,
   "metadata": {},
   "outputs": [
    {
     "data": {
      "text/html": [
       "<div>\n",
       "<style scoped>\n",
       "    .dataframe tbody tr th:only-of-type {\n",
       "        vertical-align: middle;\n",
       "    }\n",
       "\n",
       "    .dataframe tbody tr th {\n",
       "        vertical-align: top;\n",
       "    }\n",
       "\n",
       "    .dataframe thead th {\n",
       "        text-align: right;\n",
       "    }\n",
       "</style>\n",
       "<table border=\"1\" class=\"dataframe\">\n",
       "  <thead>\n",
       "    <tr style=\"text-align: right;\">\n",
       "      <th></th>\n",
       "      <th>danceability</th>\n",
       "      <th>energy</th>\n",
       "      <th>speechiness</th>\n",
       "      <th>acousticness</th>\n",
       "      <th>instrumentalness</th>\n",
       "      <th>liveness</th>\n",
       "    </tr>\n",
       "  </thead>\n",
       "  <tbody>\n",
       "    <tr>\n",
       "      <th>0</th>\n",
       "      <td>0.739</td>\n",
       "      <td>0.806</td>\n",
       "      <td>0.0309</td>\n",
       "      <td>0.255</td>\n",
       "      <td>0.000176</td>\n",
       "      <td>0.442</td>\n",
       "    </tr>\n",
       "  </tbody>\n",
       "</table>\n",
       "</div>"
      ],
      "text/plain": [
       "   danceability  energy  speechiness  acousticness  instrumentalness  liveness\n",
       "0         0.739   0.806       0.0309         0.255          0.000176     0.442"
      ]
     },
     "execution_count": 143,
     "metadata": {},
     "output_type": "execute_result"
    }
   ],
   "source": [
    "df_a_f_.head()"
   ]
  },
  {
   "cell_type": "code",
   "execution_count": 144,
   "metadata": {},
   "outputs": [],
   "source": [
    "df_a_f_scaled = scaler.transform(df_a_f_)"
   ]
  },
  {
   "cell_type": "code",
   "execution_count": 145,
   "metadata": {},
   "outputs": [
    {
     "data": {
      "text/plain": [
       "array([[ 1.01202188,  0.95111262, -0.5316423 , -0.40672706, -0.61898672,\n",
       "         2.17555119]])"
      ]
     },
     "execution_count": 145,
     "metadata": {},
     "output_type": "execute_result"
    }
   ],
   "source": [
    "df_a_f_scaled"
   ]
  },
  {
   "cell_type": "code",
   "execution_count": 146,
   "metadata": {},
   "outputs": [],
   "source": [
    "cluster = my_kmeans.predict(df_a_f_scaled)"
   ]
  },
  {
   "cell_type": "code",
   "execution_count": 167,
   "metadata": {},
   "outputs": [
    {
     "data": {
      "text/plain": [
       "1"
      ]
     },
     "execution_count": 167,
     "metadata": {},
     "output_type": "execute_result"
    }
   ],
   "source": [
    "int(cluster)"
   ]
  },
  {
   "cell_type": "code",
   "execution_count": 148,
   "metadata": {},
   "outputs": [
    {
     "data": {
      "text/html": [
       "<div>\n",
       "<style scoped>\n",
       "    .dataframe tbody tr th:only-of-type {\n",
       "        vertical-align: middle;\n",
       "    }\n",
       "\n",
       "    .dataframe tbody tr th {\n",
       "        vertical-align: top;\n",
       "    }\n",
       "\n",
       "    .dataframe thead th {\n",
       "        text-align: right;\n",
       "    }\n",
       "</style>\n",
       "<table border=\"1\" class=\"dataframe\">\n",
       "  <thead>\n",
       "    <tr style=\"text-align: right;\">\n",
       "      <th></th>\n",
       "      <th>name</th>\n",
       "      <th>artist_1</th>\n",
       "    </tr>\n",
       "  </thead>\n",
       "  <tbody>\n",
       "    <tr>\n",
       "      <th>4</th>\n",
       "      <td>Only Love</td>\n",
       "      <td>Deepend</td>\n",
       "    </tr>\n",
       "    <tr>\n",
       "      <th>9</th>\n",
       "      <td>This City - Frank Walker Remix</td>\n",
       "      <td>Sam Fischer</td>\n",
       "    </tr>\n",
       "    <tr>\n",
       "      <th>12</th>\n",
       "      <td>Enemy</td>\n",
       "      <td>Sandro Cavazza</td>\n",
       "    </tr>\n",
       "    <tr>\n",
       "      <th>14</th>\n",
       "      <td>All For Love</td>\n",
       "      <td>Tungevaag</td>\n",
       "    </tr>\n",
       "    <tr>\n",
       "      <th>30</th>\n",
       "      <td>Something I Need</td>\n",
       "      <td>OneRepublic</td>\n",
       "    </tr>\n",
       "    <tr>\n",
       "      <th>...</th>\n",
       "      <td>...</td>\n",
       "      <td>...</td>\n",
       "    </tr>\n",
       "    <tr>\n",
       "      <th>2418</th>\n",
       "      <td>Blackbird</td>\n",
       "      <td>Fat Freddy's Drop</td>\n",
       "    </tr>\n",
       "    <tr>\n",
       "      <th>2419</th>\n",
       "      <td>What It Is</td>\n",
       "      <td>Mark Knopfler</td>\n",
       "    </tr>\n",
       "    <tr>\n",
       "      <th>2423</th>\n",
       "      <td>Russia - Nightmares on Wax Remix</td>\n",
       "      <td>Fat Freddy's Drop</td>\n",
       "    </tr>\n",
       "    <tr>\n",
       "      <th>2438</th>\n",
       "      <td>Johnny B. Goode</td>\n",
       "      <td>Chuck Berry</td>\n",
       "    </tr>\n",
       "    <tr>\n",
       "      <th>2439</th>\n",
       "      <td>Seven Nation Army</td>\n",
       "      <td>The White Stripes</td>\n",
       "    </tr>\n",
       "  </tbody>\n",
       "</table>\n",
       "<p>291 rows × 2 columns</p>\n",
       "</div>"
      ],
      "text/plain": [
       "                                  name           artist_1\n",
       "4                            Only Love            Deepend\n",
       "9       This City - Frank Walker Remix        Sam Fischer\n",
       "12                               Enemy     Sandro Cavazza\n",
       "14                        All For Love          Tungevaag\n",
       "30                    Something I Need        OneRepublic\n",
       "...                                ...                ...\n",
       "2418                         Blackbird  Fat Freddy's Drop\n",
       "2419                        What It Is      Mark Knopfler\n",
       "2423  Russia - Nightmares on Wax Remix  Fat Freddy's Drop\n",
       "2438                   Johnny B. Goode        Chuck Berry\n",
       "2439                 Seven Nation Army  The White Stripes\n",
       "\n",
       "[291 rows x 2 columns]"
      ]
     },
     "execution_count": 148,
     "metadata": {},
     "output_type": "execute_result"
    }
   ],
   "source": [
    "songs_all.loc[songs_all[\"cluster\"] == 1, [\"name\", \"artist_1\"]]"
   ]
  },
  {
   "cell_type": "code",
   "execution_count": 164,
   "metadata": {},
   "outputs": [],
   "source": [
    "from os import listdir\n",
    "from os.path import isfile, join\n",
    "mypath = \"../data/\"\n",
    "onlyfiles = [f for f in listdir(mypath) if isfile(join(mypath, f))]"
   ]
  },
  {
   "cell_type": "code",
   "execution_count": 165,
   "metadata": {},
   "outputs": [
    {
     "data": {
      "text/plain": [
       "['songs.csv',\n",
       " '.DS_Store',\n",
       " 'songs_all_20210128.csv',\n",
       " 'hot_top100_2021-01-26.csv',\n",
       " 'songs_all.csv',\n",
       " 'songs_all_10000.csv',\n",
       " 'audio_features.csv']"
      ]
     },
     "execution_count": 165,
     "metadata": {},
     "output_type": "execute_result"
    }
   ],
   "source": [
    "onlyfiles"
   ]
  },
  {
   "cell_type": "code",
   "execution_count": 166,
   "metadata": {},
   "outputs": [
    {
     "data": {
      "text/plain": [
       "True"
      ]
     },
     "execution_count": 166,
     "metadata": {},
     "output_type": "execute_result"
    }
   ],
   "source": [
    "\"hot_top100_2021-01-26.csv\" in onlyfiles"
   ]
  },
  {
   "cell_type": "code",
   "execution_count": 182,
   "metadata": {},
   "outputs": [],
   "source": [
    "song_matches = songs_all.loc[songs_all[\"cluster\"] == int(cluster), [\"name\",\"artist_1\",\"artist_2\",\"uri\"]]"
   ]
  },
  {
   "cell_type": "code",
   "execution_count": 175,
   "metadata": {},
   "outputs": [],
   "source": [
    "from random import randint"
   ]
  },
  {
   "cell_type": "code",
   "execution_count": 183,
   "metadata": {},
   "outputs": [],
   "source": [
    "value = randint(0, len(song_matches))"
   ]
  },
  {
   "cell_type": "code",
   "execution_count": 185,
   "metadata": {},
   "outputs": [
    {
     "data": {
      "text/html": [
       "<div>\n",
       "<style scoped>\n",
       "    .dataframe tbody tr th:only-of-type {\n",
       "        vertical-align: middle;\n",
       "    }\n",
       "\n",
       "    .dataframe tbody tr th {\n",
       "        vertical-align: top;\n",
       "    }\n",
       "\n",
       "    .dataframe thead th {\n",
       "        text-align: right;\n",
       "    }\n",
       "</style>\n",
       "<table border=\"1\" class=\"dataframe\">\n",
       "  <thead>\n",
       "    <tr style=\"text-align: right;\">\n",
       "      <th></th>\n",
       "      <th>name</th>\n",
       "      <th>artist_1</th>\n",
       "      <th>artist_2</th>\n",
       "      <th>uri</th>\n",
       "    </tr>\n",
       "  </thead>\n",
       "  <tbody>\n",
       "    <tr>\n",
       "      <th>4</th>\n",
       "      <td>Only Love</td>\n",
       "      <td>Deepend</td>\n",
       "      <td>NaN</td>\n",
       "      <td>spotify:track:7DSBxP0sGTuEb249LMJSLY</td>\n",
       "    </tr>\n",
       "    <tr>\n",
       "      <th>9</th>\n",
       "      <td>This City - Frank Walker Remix</td>\n",
       "      <td>Sam Fischer</td>\n",
       "      <td>Frank Walker</td>\n",
       "      <td>spotify:track:5SN8Y8Q430cJL4kqboNYlf</td>\n",
       "    </tr>\n",
       "    <tr>\n",
       "      <th>12</th>\n",
       "      <td>Enemy</td>\n",
       "      <td>Sandro Cavazza</td>\n",
       "      <td>NaN</td>\n",
       "      <td>spotify:track:3YOl49rulPzu6LHbeDicuT</td>\n",
       "    </tr>\n",
       "    <tr>\n",
       "      <th>14</th>\n",
       "      <td>All For Love</td>\n",
       "      <td>Tungevaag</td>\n",
       "      <td>Raaban</td>\n",
       "      <td>spotify:track:5VGBgPVFO3e0lWz4WHYntQ</td>\n",
       "    </tr>\n",
       "    <tr>\n",
       "      <th>30</th>\n",
       "      <td>Something I Need</td>\n",
       "      <td>OneRepublic</td>\n",
       "      <td>NaN</td>\n",
       "      <td>spotify:track:5aIZ2jtxZ4o4GHQXTybkIa</td>\n",
       "    </tr>\n",
       "    <tr>\n",
       "      <th>...</th>\n",
       "      <td>...</td>\n",
       "      <td>...</td>\n",
       "      <td>...</td>\n",
       "      <td>...</td>\n",
       "    </tr>\n",
       "    <tr>\n",
       "      <th>2418</th>\n",
       "      <td>Blackbird</td>\n",
       "      <td>Fat Freddy's Drop</td>\n",
       "      <td>NaN</td>\n",
       "      <td>spotify:track:3oSnMDaL0WsWyp2Gy80ulq</td>\n",
       "    </tr>\n",
       "    <tr>\n",
       "      <th>2419</th>\n",
       "      <td>What It Is</td>\n",
       "      <td>Mark Knopfler</td>\n",
       "      <td>NaN</td>\n",
       "      <td>spotify:track:65f8Ca4HbZCMLhpZPTHW4O</td>\n",
       "    </tr>\n",
       "    <tr>\n",
       "      <th>2423</th>\n",
       "      <td>Russia - Nightmares on Wax Remix</td>\n",
       "      <td>Fat Freddy's Drop</td>\n",
       "      <td>Nightmares On Wax</td>\n",
       "      <td>spotify:track:6fXznH7uiIWOs53BwRtgPz</td>\n",
       "    </tr>\n",
       "    <tr>\n",
       "      <th>2438</th>\n",
       "      <td>Johnny B. Goode</td>\n",
       "      <td>Chuck Berry</td>\n",
       "      <td>NaN</td>\n",
       "      <td>spotify:track:2QfiRTz5Yc8DdShCxG1tB2</td>\n",
       "    </tr>\n",
       "    <tr>\n",
       "      <th>2439</th>\n",
       "      <td>Seven Nation Army</td>\n",
       "      <td>The White Stripes</td>\n",
       "      <td>NaN</td>\n",
       "      <td>spotify:track:3dPQuX8Gs42Y7b454ybpMR</td>\n",
       "    </tr>\n",
       "  </tbody>\n",
       "</table>\n",
       "<p>291 rows × 4 columns</p>\n",
       "</div>"
      ],
      "text/plain": [
       "                                  name           artist_1           artist_2  \\\n",
       "4                            Only Love            Deepend                NaN   \n",
       "9       This City - Frank Walker Remix        Sam Fischer       Frank Walker   \n",
       "12                               Enemy     Sandro Cavazza                NaN   \n",
       "14                        All For Love          Tungevaag             Raaban   \n",
       "30                    Something I Need        OneRepublic                NaN   \n",
       "...                                ...                ...                ...   \n",
       "2418                         Blackbird  Fat Freddy's Drop                NaN   \n",
       "2419                        What It Is      Mark Knopfler                NaN   \n",
       "2423  Russia - Nightmares on Wax Remix  Fat Freddy's Drop  Nightmares On Wax   \n",
       "2438                   Johnny B. Goode        Chuck Berry                NaN   \n",
       "2439                 Seven Nation Army  The White Stripes                NaN   \n",
       "\n",
       "                                       uri  \n",
       "4     spotify:track:7DSBxP0sGTuEb249LMJSLY  \n",
       "9     spotify:track:5SN8Y8Q430cJL4kqboNYlf  \n",
       "12    spotify:track:3YOl49rulPzu6LHbeDicuT  \n",
       "14    spotify:track:5VGBgPVFO3e0lWz4WHYntQ  \n",
       "30    spotify:track:5aIZ2jtxZ4o4GHQXTybkIa  \n",
       "...                                    ...  \n",
       "2418  spotify:track:3oSnMDaL0WsWyp2Gy80ulq  \n",
       "2419  spotify:track:65f8Ca4HbZCMLhpZPTHW4O  \n",
       "2423  spotify:track:6fXznH7uiIWOs53BwRtgPz  \n",
       "2438  spotify:track:2QfiRTz5Yc8DdShCxG1tB2  \n",
       "2439  spotify:track:3dPQuX8Gs42Y7b454ybpMR  \n",
       "\n",
       "[291 rows x 4 columns]"
      ]
     },
     "execution_count": 185,
     "metadata": {},
     "output_type": "execute_result"
    }
   ],
   "source": [
    "song_matches"
   ]
  },
  {
   "cell_type": "code",
   "execution_count": 189,
   "metadata": {},
   "outputs": [],
   "source": [
    "list_index = list(song_matches.index)"
   ]
  },
  {
   "cell_type": "code",
   "execution_count": 190,
   "metadata": {
    "collapsed": true
   },
   "outputs": [
    {
     "data": {
      "text/plain": [
       "[4,\n",
       " 9,\n",
       " 12,\n",
       " 14,\n",
       " 30,\n",
       " 49,\n",
       " 50,\n",
       " 54,\n",
       " 56,\n",
       " 57,\n",
       " 58,\n",
       " 59,\n",
       " 62,\n",
       " 63,\n",
       " 68,\n",
       " 73,\n",
       " 75,\n",
       " 82,\n",
       " 91,\n",
       " 95,\n",
       " 99,\n",
       " 107,\n",
       " 108,\n",
       " 110,\n",
       " 114,\n",
       " 115,\n",
       " 121,\n",
       " 122,\n",
       " 127,\n",
       " 135,\n",
       " 137,\n",
       " 141,\n",
       " 148,\n",
       " 158,\n",
       " 166,\n",
       " 167,\n",
       " 170,\n",
       " 173,\n",
       " 178,\n",
       " 185,\n",
       " 188,\n",
       " 189,\n",
       " 190,\n",
       " 195,\n",
       " 197,\n",
       " 203,\n",
       " 214,\n",
       " 215,\n",
       " 220,\n",
       " 223,\n",
       " 228,\n",
       " 235,\n",
       " 237,\n",
       " 238,\n",
       " 239,\n",
       " 240,\n",
       " 241,\n",
       " 252,\n",
       " 258,\n",
       " 262,\n",
       " 267,\n",
       " 270,\n",
       " 276,\n",
       " 278,\n",
       " 294,\n",
       " 303,\n",
       " 313,\n",
       " 364,\n",
       " 491,\n",
       " 514,\n",
       " 516,\n",
       " 529,\n",
       " 534,\n",
       " 536,\n",
       " 541,\n",
       " 547,\n",
       " 552,\n",
       " 560,\n",
       " 566,\n",
       " 570,\n",
       " 575,\n",
       " 582,\n",
       " 590,\n",
       " 592,\n",
       " 600,\n",
       " 601,\n",
       " 610,\n",
       " 615,\n",
       " 627,\n",
       " 629,\n",
       " 641,\n",
       " 642,\n",
       " 660,\n",
       " 753,\n",
       " 754,\n",
       " 756,\n",
       " 757,\n",
       " 762,\n",
       " 769,\n",
       " 774,\n",
       " 777,\n",
       " 778,\n",
       " 783,\n",
       " 785,\n",
       " 794,\n",
       " 797,\n",
       " 806,\n",
       " 810,\n",
       " 814,\n",
       " 819,\n",
       " 823,\n",
       " 831,\n",
       " 832,\n",
       " 835,\n",
       " 837,\n",
       " 839,\n",
       " 843,\n",
       " 864,\n",
       " 866,\n",
       " 867,\n",
       " 871,\n",
       " 878,\n",
       " 881,\n",
       " 893,\n",
       " 913,\n",
       " 920,\n",
       " 928,\n",
       " 936,\n",
       " 947,\n",
       " 955,\n",
       " 957,\n",
       " 970,\n",
       " 976,\n",
       " 977,\n",
       " 990,\n",
       " 992,\n",
       " 993,\n",
       " 997,\n",
       " 1047,\n",
       " 1048,\n",
       " 1049,\n",
       " 1057,\n",
       " 1058,\n",
       " 1065,\n",
       " 1066,\n",
       " 1067,\n",
       " 1068,\n",
       " 1075,\n",
       " 1077,\n",
       " 1083,\n",
       " 1091,\n",
       " 1092,\n",
       " 1093,\n",
       " 1115,\n",
       " 1122,\n",
       " 1123,\n",
       " 1124,\n",
       " 1125,\n",
       " 1129,\n",
       " 1133,\n",
       " 1134,\n",
       " 1143,\n",
       " 1149,\n",
       " 1151,\n",
       " 1152,\n",
       " 1154,\n",
       " 1155,\n",
       " 1161,\n",
       " 1164,\n",
       " 1166,\n",
       " 1167,\n",
       " 1174,\n",
       " 1176,\n",
       " 1266,\n",
       " 1274,\n",
       " 1282,\n",
       " 1621,\n",
       " 1627,\n",
       " 1635,\n",
       " 1647,\n",
       " 1650,\n",
       " 1654,\n",
       " 1655,\n",
       " 1656,\n",
       " 1657,\n",
       " 1659,\n",
       " 1660,\n",
       " 1661,\n",
       " 1662,\n",
       " 1665,\n",
       " 1668,\n",
       " 1681,\n",
       " 1682,\n",
       " 1684,\n",
       " 1691,\n",
       " 1692,\n",
       " 1697,\n",
       " 1698,\n",
       " 1709,\n",
       " 1713,\n",
       " 1717,\n",
       " 1719,\n",
       " 1725,\n",
       " 1726,\n",
       " 1734,\n",
       " 1741,\n",
       " 1744,\n",
       " 1755,\n",
       " 1767,\n",
       " 1778,\n",
       " 1779,\n",
       " 1785,\n",
       " 1788,\n",
       " 1800,\n",
       " 1812,\n",
       " 1816,\n",
       " 1823,\n",
       " 1837,\n",
       " 1841,\n",
       " 1843,\n",
       " 1853,\n",
       " 1863,\n",
       " 1867,\n",
       " 1879,\n",
       " 1880,\n",
       " 1885,\n",
       " 1889,\n",
       " 1895,\n",
       " 1897,\n",
       " 1899,\n",
       " 1903,\n",
       " 1915,\n",
       " 1954,\n",
       " 1970,\n",
       " 2022,\n",
       " 2024,\n",
       " 2026,\n",
       " 2027,\n",
       " 2046,\n",
       " 2053,\n",
       " 2059,\n",
       " 2069,\n",
       " 2082,\n",
       " 2084,\n",
       " 2098,\n",
       " 2108,\n",
       " 2120,\n",
       " 2140,\n",
       " 2141,\n",
       " 2145,\n",
       " 2147,\n",
       " 2152,\n",
       " 2153,\n",
       " 2154,\n",
       " 2170,\n",
       " 2186,\n",
       " 2187,\n",
       " 2199,\n",
       " 2203,\n",
       " 2215,\n",
       " 2216,\n",
       " 2242,\n",
       " 2250,\n",
       " 2254,\n",
       " 2255,\n",
       " 2261,\n",
       " 2270,\n",
       " 2275,\n",
       " 2279,\n",
       " 2291,\n",
       " 2296,\n",
       " 2299,\n",
       " 2300,\n",
       " 2306,\n",
       " 2308,\n",
       " 2315,\n",
       " 2319,\n",
       " 2320,\n",
       " 2339,\n",
       " 2343,\n",
       " 2359,\n",
       " 2362,\n",
       " 2376,\n",
       " 2407,\n",
       " 2412,\n",
       " 2415,\n",
       " 2418,\n",
       " 2419,\n",
       " 2423,\n",
       " 2438,\n",
       " 2439]"
      ]
     },
     "execution_count": 190,
     "metadata": {},
     "output_type": "execute_result"
    }
   ],
   "source": [
    "list_index"
   ]
  },
  {
   "cell_type": "code",
   "execution_count": 244,
   "metadata": {},
   "outputs": [],
   "source": [
    "recommended_song_uri = \"spotify:track:5VGBgPVFO3e0lWz4WHYntQ\""
   ]
  },
  {
   "cell_type": "code",
   "execution_count": 245,
   "metadata": {},
   "outputs": [
    {
     "data": {
      "text/plain": [
       "{'tracks': {'href': 'https://api.spotify.com/v1/search?query=spotify%3Atrack%3A5VGBgPVFO3e0lWz4WHYntQ&type=track&offset=0&limit=10',\n",
       "  'items': [],\n",
       "  'limit': 10,\n",
       "  'next': None,\n",
       "  'offset': 0,\n",
       "  'previous': None,\n",
       "  'total': 0}}"
      ]
     },
     "execution_count": 245,
     "metadata": {},
     "output_type": "execute_result"
    }
   ],
   "source": [
    "results = sp.search(recommended_song_uri, limit=10)\n",
    "results"
   ]
  },
  {
   "cell_type": "code",
   "execution_count": 205,
   "metadata": {},
   "outputs": [],
   "source": [
    "recommended_song_name = songs_all.loc[songs_all[\"uri\"] == recommended_song_uri, [\"name\"]]"
   ]
  },
  {
   "cell_type": "code",
   "execution_count": 209,
   "metadata": {},
   "outputs": [
    {
     "data": {
      "text/plain": [
       "'What It Is'"
      ]
     },
     "execution_count": 209,
     "metadata": {},
     "output_type": "execute_result"
    }
   ],
   "source": [
    "recommended_song_name.values[0][0]"
   ]
  },
  {
   "cell_type": "code",
   "execution_count": 262,
   "metadata": {},
   "outputs": [],
   "source": [
    "path = \"/Users/pauserrabergeron/Private/Ironhack/Course/credentials/\"\n",
    "f = open(path + \"spotify_credentials.txt\", \"r\")\n",
    "dicti = f.read()"
   ]
  },
  {
   "cell_type": "code",
   "execution_count": 263,
   "metadata": {},
   "outputs": [],
   "source": [
    "res = json.loads(dicti[:-1])"
   ]
  },
  {
   "cell_type": "code",
   "execution_count": 264,
   "metadata": {},
   "outputs": [
    {
     "data": {
      "text/plain": [
       "{'client_id': 'af9ddcc5c792418e989d0746d5f123ea',\n",
       " 'client_secret': '042754efae2146c8adcd80bf6811c3f0'}"
      ]
     },
     "execution_count": 264,
     "metadata": {},
     "output_type": "execute_result"
    }
   ],
   "source": [
    "res"
   ]
  },
  {
   "cell_type": "code",
   "execution_count": null,
   "metadata": {},
   "outputs": [],
   "source": []
  }
 ],
 "metadata": {
  "kernelspec": {
   "display_name": "Python 3",
   "language": "python",
   "name": "python3"
  },
  "language_info": {
   "codemirror_mode": {
    "name": "ipython",
    "version": 3
   },
   "file_extension": ".py",
   "mimetype": "text/x-python",
   "name": "python",
   "nbconvert_exporter": "python",
   "pygments_lexer": "ipython3",
   "version": "3.9.0"
  },
  "varInspector": {
   "cols": {
    "lenName": 16,
    "lenType": 16,
    "lenVar": 40
   },
   "kernels_config": {
    "python": {
     "delete_cmd_postfix": "",
     "delete_cmd_prefix": "del ",
     "library": "var_list.py",
     "varRefreshCmd": "print(var_dic_list())"
    },
    "r": {
     "delete_cmd_postfix": ") ",
     "delete_cmd_prefix": "rm(",
     "library": "var_list.r",
     "varRefreshCmd": "cat(var_dic_list()) "
    }
   },
   "types_to_exclude": [
    "module",
    "function",
    "builtin_function_or_method",
    "instance",
    "_Feature"
   ],
   "window_display": false
  }
 },
 "nbformat": 4,
 "nbformat_minor": 4
}
