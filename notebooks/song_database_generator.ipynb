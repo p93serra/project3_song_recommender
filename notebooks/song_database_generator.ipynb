{
 "cells": [
  {
   "cell_type": "markdown",
   "metadata": {},
   "source": [
    "# SONG DATABASE GENERATOR"
   ]
  },
  {
   "cell_type": "code",
   "execution_count": 1,
   "metadata": {},
   "outputs": [],
   "source": [
    "import spotipy # install if needed\n",
    "from spotipy.oauth2 import SpotifyClientCredentials"
   ]
  },
  {
   "cell_type": "code",
   "execution_count": 2,
   "metadata": {},
   "outputs": [],
   "source": [
    "sp = spotipy.Spotify(auth_manager=SpotifyClientCredentials(\n",
    "    client_id=\"af9ddcc5c792418e989d0746d5f123ea\",\n",
    "    client_secret=\"042754efae2146c8adcd80bf6811c3f0\"))"
   ]
  },
  {
   "cell_type": "code",
   "execution_count": 3,
   "metadata": {},
   "outputs": [],
   "source": [
    "url_10000_songs = \"https://open.spotify.com/playlist/1hMzceeWw7QiI6vaBkcEJO\""
   ]
  },
  {
   "cell_type": "code",
   "execution_count": 19,
   "metadata": {},
   "outputs": [],
   "source": [
    "def get_playlist_tracks(playlist_id):\n",
    "    results = sp.user_playlist_tracks(\"spotify\", playlist_id)\n",
    "    total_songs = results[\"total\"]\n",
    "    items = results['items']\n",
    "    i = 1\n",
    "    while results['next']:\n",
    "        results = sp.next(results)\n",
    "        items.extend(results['items'])\n",
    "        print(\"Processed songs: \" + str(i*100) + \"/\" + str(total_songs))\n",
    "        i += 1\n",
    "    print(\"Finished!\")\n",
    "    return [i[\"track\"][\"uri\"] for i in items]"
   ]
  },
  {
   "cell_type": "code",
   "execution_count": 18,
   "metadata": {
    "collapsed": true
   },
   "outputs": [
    {
     "name": "stdout",
     "output_type": "stream",
     "text": [
      "Processed songs: 0/10000\n",
      "Processed songs: 100/10000\n",
      "Processed songs: 200/10000\n",
      "Processed songs: 300/10000\n",
      "Processed songs: 400/10000\n",
      "Processed songs: 500/10000\n",
      "Processed songs: 600/10000\n",
      "Processed songs: 700/10000\n",
      "Processed songs: 800/10000\n",
      "Processed songs: 900/10000\n",
      "Processed songs: 1000/10000\n",
      "Processed songs: 1100/10000\n",
      "Processed songs: 1200/10000\n",
      "Processed songs: 1300/10000\n",
      "Processed songs: 1400/10000\n",
      "Processed songs: 1500/10000\n",
      "Processed songs: 1600/10000\n",
      "Processed songs: 1700/10000\n",
      "Processed songs: 1800/10000\n",
      "Processed songs: 1900/10000\n",
      "Processed songs: 2000/10000\n",
      "Processed songs: 2100/10000\n",
      "Processed songs: 2200/10000\n",
      "Processed songs: 2300/10000\n",
      "Processed songs: 2400/10000\n",
      "Processed songs: 2500/10000\n",
      "Processed songs: 2600/10000\n",
      "Processed songs: 2700/10000\n",
      "Processed songs: 2800/10000\n",
      "Processed songs: 2900/10000\n",
      "Processed songs: 3000/10000\n",
      "Processed songs: 3100/10000\n",
      "Processed songs: 3200/10000\n",
      "Processed songs: 3300/10000\n",
      "Processed songs: 3400/10000\n",
      "Processed songs: 3500/10000\n",
      "Processed songs: 3600/10000\n",
      "Processed songs: 3700/10000\n",
      "Processed songs: 3800/10000\n",
      "Processed songs: 3900/10000\n",
      "Processed songs: 4000/10000\n",
      "Processed songs: 4100/10000\n",
      "Processed songs: 4200/10000\n",
      "Processed songs: 4300/10000\n",
      "Processed songs: 4400/10000\n",
      "Processed songs: 4500/10000\n",
      "Processed songs: 4600/10000\n",
      "Processed songs: 4700/10000\n",
      "Processed songs: 4800/10000\n",
      "Processed songs: 4900/10000\n",
      "Processed songs: 5000/10000\n",
      "Processed songs: 5100/10000\n",
      "Processed songs: 5200/10000\n",
      "Processed songs: 5300/10000\n",
      "Processed songs: 5400/10000\n",
      "Processed songs: 5500/10000\n",
      "Processed songs: 5600/10000\n",
      "Processed songs: 5700/10000\n",
      "Processed songs: 5800/10000\n",
      "Processed songs: 5900/10000\n",
      "Processed songs: 6000/10000\n",
      "Processed songs: 6100/10000\n",
      "Processed songs: 6200/10000\n",
      "Processed songs: 6300/10000\n",
      "Processed songs: 6400/10000\n",
      "Processed songs: 6500/10000\n",
      "Processed songs: 6600/10000\n",
      "Processed songs: 6700/10000\n",
      "Processed songs: 6800/10000\n",
      "Processed songs: 6900/10000\n",
      "Processed songs: 7000/10000\n",
      "Processed songs: 7100/10000\n",
      "Processed songs: 7200/10000\n",
      "Processed songs: 7300/10000\n",
      "Processed songs: 7400/10000\n",
      "Processed songs: 7500/10000\n",
      "Processed songs: 7600/10000\n",
      "Processed songs: 7700/10000\n",
      "Processed songs: 7800/10000\n",
      "Processed songs: 7900/10000\n",
      "Processed songs: 8000/10000\n",
      "Processed songs: 8100/10000\n",
      "Processed songs: 8200/10000\n",
      "Processed songs: 8300/10000\n",
      "Processed songs: 8400/10000\n",
      "Processed songs: 8500/10000\n",
      "Processed songs: 8600/10000\n",
      "Processed songs: 8700/10000\n",
      "Processed songs: 8800/10000\n",
      "Processed songs: 8900/10000\n",
      "Processed songs: 9000/10000\n",
      "Processed songs: 9100/10000\n",
      "Processed songs: 9200/10000\n",
      "Processed songs: 9300/10000\n",
      "Processed songs: 9400/10000\n",
      "Processed songs: 9500/10000\n",
      "Processed songs: 9600/10000\n",
      "Processed songs: 9700/10000\n",
      "Processed songs: 9800/10000\n",
      "Finished!\n"
     ]
    }
   ],
   "source": [
    "pl_10000_songs_uri = get_playlist_tracks(\"1hMzceeWw7QiI6vaBkcEJO\")"
   ]
  },
  {
   "cell_type": "code",
   "execution_count": 17,
   "metadata": {},
   "outputs": [
    {
     "data": {
      "text/plain": [
       "10000"
      ]
     },
     "execution_count": 17,
     "metadata": {},
     "output_type": "execute_result"
    }
   ],
   "source": [
    "len(songs_uri)"
   ]
  },
  {
   "cell_type": "code",
   "execution_count": 6,
   "metadata": {},
   "outputs": [
    {
     "name": "stdout",
     "output_type": "stream",
     "text": [
      "Processed songs: 100/10000\n",
      "Processed songs: 200/10000\n",
      "Processed songs: 300/10000\n",
      "Processed songs: 400/10000\n",
      "Processed songs: 500/10000\n",
      "Processed songs: 600/10000\n",
      "Processed songs: 700/10000\n",
      "Processed songs: 800/10000\n",
      "Processed songs: 900/10000\n",
      "Processed songs: 1000/10000\n",
      "Processed songs: 1100/10000\n",
      "Processed songs: 1200/10000\n",
      "Processed songs: 1300/10000\n",
      "Processed songs: 1400/10000\n",
      "Processed songs: 1500/10000\n",
      "Processed songs: 1600/10000\n",
      "Processed songs: 1700/10000\n",
      "Processed songs: 1800/10000\n",
      "Processed songs: 1900/10000\n",
      "Processed songs: 2000/10000\n",
      "Processed songs: 2100/10000\n",
      "Processed songs: 2200/10000\n",
      "Processed songs: 2300/10000\n",
      "Processed songs: 2400/10000\n",
      "Processed songs: 2500/10000\n",
      "Processed songs: 2600/10000\n",
      "Processed songs: 2700/10000\n",
      "Processed songs: 2800/10000\n",
      "Processed songs: 2900/10000\n",
      "Processed songs: 3000/10000\n",
      "Processed songs: 3100/10000\n",
      "Processed songs: 3200/10000\n",
      "Processed songs: 3300/10000\n",
      "Processed songs: 3400/10000\n",
      "Processed songs: 3500/10000\n",
      "Processed songs: 3600/10000\n",
      "Processed songs: 3700/10000\n",
      "Processed songs: 3800/10000\n",
      "Processed songs: 3900/10000\n",
      "Processed songs: 4000/10000\n",
      "Processed songs: 4100/10000\n",
      "Processed songs: 4200/10000\n",
      "Processed songs: 4300/10000\n",
      "Processed songs: 4400/10000\n",
      "Processed songs: 4500/10000\n",
      "Processed songs: 4600/10000\n",
      "Processed songs: 4700/10000\n",
      "Processed songs: 4800/10000\n",
      "Processed songs: 4900/10000\n",
      "Processed songs: 5000/10000\n",
      "Processed songs: 5100/10000\n",
      "Processed songs: 5200/10000\n",
      "Processed songs: 5300/10000\n",
      "Processed songs: 5400/10000\n",
      "Processed songs: 5500/10000\n",
      "Processed songs: 5600/10000\n",
      "Processed songs: 5700/10000\n",
      "Processed songs: 5800/10000\n",
      "Processed songs: 5900/10000\n",
      "Processed songs: 6000/10000\n",
      "Processed songs: 6100/10000\n",
      "Processed songs: 6200/10000\n",
      "Processed songs: 6300/10000\n",
      "Processed songs: 6400/10000\n",
      "Processed songs: 6500/10000\n",
      "Processed songs: 6600/10000\n",
      "Processed songs: 6700/10000\n",
      "Processed songs: 6800/10000\n",
      "Processed songs: 6900/10000\n",
      "Processed songs: 7000/10000\n",
      "Processed songs: 7100/10000\n",
      "Processed songs: 7200/10000\n",
      "Processed songs: 7300/10000\n",
      "Processed songs: 7400/10000\n",
      "Processed songs: 7500/10000\n",
      "Processed songs: 7600/10000\n",
      "Processed songs: 7700/10000\n",
      "Processed songs: 7800/10000\n",
      "Processed songs: 7900/10000\n",
      "Processed songs: 8000/10000\n",
      "Processed songs: 8100/10000\n",
      "Processed songs: 8200/10000\n",
      "Processed songs: 8300/10000\n",
      "Processed songs: 8400/10000\n",
      "Processed songs: 8500/10000\n",
      "Processed songs: 8600/10000\n",
      "Processed songs: 8700/10000\n",
      "Processed songs: 8800/10000\n",
      "Processed songs: 8900/10000\n",
      "Processed songs: 9000/10000\n",
      "Processed songs: 9100/10000\n",
      "Processed songs: 9200/10000\n",
      "Processed songs: 9300/10000\n",
      "Processed songs: 9400/10000\n",
      "Processed songs: 9500/10000\n",
      "Processed songs: 9600/10000\n",
      "Processed songs: 9700/10000\n",
      "Processed songs: 9800/10000\n",
      "Processed songs: 9900/10000\n",
      "Finished!\n"
     ]
    }
   ],
   "source": [
    "results = sp.user_playlist_tracks(\"spotify\", \"1hMzceeWw7QiI6vaBkcEJO\")\n",
    "total_songs = results[\"total\"]\n",
    "items = results['items']\n",
    "i = 1\n",
    "while results['next']:\n",
    "    results = sp.next(results)\n",
    "    items.extend(results['items'])\n",
    "    print(\"Processed songs: \" + str(i*100) + \"/\" + str(total_songs))\n",
    "    i += 1\n",
    "print(\"Finished!\")"
   ]
  },
  {
   "cell_type": "code",
   "execution_count": 10,
   "metadata": {},
   "outputs": [
    {
     "data": {
      "text/plain": [
       "'The Rolling Stones'"
      ]
     },
     "execution_count": 10,
     "metadata": {},
     "output_type": "execute_result"
    }
   ],
   "source": [
    "items[0][\"track\"][\"artists\"][0][\"name\"]"
   ]
  },
  {
   "cell_type": "code",
   "execution_count": 11,
   "metadata": {},
   "outputs": [],
   "source": [
    "url_10000_songs_playlist = \"https://open.spotify.com/playlist/1hMzceeWw7QiI6vaBkcEJO\""
   ]
  },
  {
   "cell_type": "code",
   "execution_count": 14,
   "metadata": {},
   "outputs": [
    {
     "data": {
      "text/plain": [
       "'https://open.spotify.com/playlist/'"
      ]
     },
     "execution_count": 14,
     "metadata": {},
     "output_type": "execute_result"
    }
   ],
   "source": [
    "url_10000_songs_playlist[:34]"
   ]
  },
  {
   "cell_type": "code",
   "execution_count": null,
   "metadata": {},
   "outputs": [],
   "source": []
  }
 ],
 "metadata": {
  "kernelspec": {
   "display_name": "Python 3",
   "language": "python",
   "name": "python3"
  },
  "language_info": {
   "codemirror_mode": {
    "name": "ipython",
    "version": 3
   },
   "file_extension": ".py",
   "mimetype": "text/x-python",
   "name": "python",
   "nbconvert_exporter": "python",
   "pygments_lexer": "ipython3",
   "version": "3.9.0"
  },
  "varInspector": {
   "cols": {
    "lenName": 16,
    "lenType": 16,
    "lenVar": 40
   },
   "kernels_config": {
    "python": {
     "delete_cmd_postfix": "",
     "delete_cmd_prefix": "del ",
     "library": "var_list.py",
     "varRefreshCmd": "print(var_dic_list())"
    },
    "r": {
     "delete_cmd_postfix": ") ",
     "delete_cmd_prefix": "rm(",
     "library": "var_list.r",
     "varRefreshCmd": "cat(var_dic_list()) "
    }
   },
   "types_to_exclude": [
    "module",
    "function",
    "builtin_function_or_method",
    "instance",
    "_Feature"
   ],
   "window_display": false
  }
 },
 "nbformat": 4,
 "nbformat_minor": 4
}
